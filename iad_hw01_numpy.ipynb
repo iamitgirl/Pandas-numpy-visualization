{
  "cells": [
    {
      "cell_type": "markdown",
      "metadata": {
        "id": "cccodeCofK8l"
      },
      "source": [
        "## Домашнее задание 1 (5 баллов)\n",
        "\n",
        "Все задания ниже имеют равный вес (5/10)."
      ]
    },
    {
      "cell_type": "markdown",
      "metadata": {
        "id": "RA8NnU3LfK8m"
      },
      "source": [
        "### О задании\n",
        "\n",
        "В этом домашнем задании вы попрактикуетесь в работе с библиотекой numpy, которая позволяет сравнительно легко и удобно выполнять разнообразные вычисления, избегая самостоятельной реализации поэлементной обработки."
      ]
    },
    {
      "cell_type": "markdown",
      "metadata": {
        "id": "1mEHinhHfK8n"
      },
      "source": [
        "Во всех задачах необходимо написать код решения внутри функции и убедиться, что она работает, с помощью [assert](https://python-reference.readthedocs.io/en/latest/docs/statements/assert.html) на выражение с использованием этой функции для данных из условия.\n",
        "\n",
        "При решении задач запрещается использовать циклы (`for`, `while`) и оператор `if`.\n",
        "\n",
        "Везде, где встречаются массивы или матрицы, подразумевается, что это `numpy.array`.\n",
        "\n",
        "**numpy reference:** https://numpy.org/doc/stable/reference/index.html"
      ]
    },
    {
      "cell_type": "code",
      "execution_count": null,
      "metadata": {
        "pycharm": {
          "name": "#%%\n"
        },
        "id": "NRt_OrH7fK8n"
      },
      "outputs": [],
      "source": [
        "import numpy as np"
      ]
    },
    {
      "cell_type": "markdown",
      "metadata": {
        "id": "A8dpk-O9fK8o"
      },
      "source": [
        "### Задание 1"
      ]
    },
    {
      "cell_type": "markdown",
      "metadata": {
        "id": "HFPfUf_ufK8o"
      },
      "source": [
        "Напишите функцию, возвращающую округленную взвешенную сумму оценок по данным оценкам и весам. Можете посчитать свою оценку за курс :) В нашем случае вес экзамена равен 0.3, вес домашек - 0.4, вес контрольной - 0.2, вес самостоятельных - 0.1. Например, если за экзамен у вас 7, за домашки 10, за контрольную 8, а за самостоятельные 6, то вы получите отличную оценку 8!"
      ]
    },
    {
      "cell_type": "code",
      "execution_count": null,
      "metadata": {
        "pycharm": {
          "name": "#%%\n"
        },
        "id": "MHOgrUDifK8o"
      },
      "outputs": [],
      "source": [
        "def result_mark(weights: np.array, marks: np.array) -> int:\n",
        "    return round(sum(weights*marks))"
      ]
    },
    {
      "cell_type": "code",
      "execution_count": null,
      "metadata": {
        "pycharm": {
          "name": "#%%\n"
        },
        "id": "kZiIM9AffK8o"
      },
      "outputs": [],
      "source": [
        "weights = np.array([0.3, 0.4, 0.2, 0.1])\n",
        "marks = np.array([7, 10, 8, 6])\n",
        "\n",
        "assert result_mark(weights, marks) == 8"
      ]
    },
    {
      "cell_type": "code",
      "execution_count": null,
      "metadata": {
        "pycharm": {
          "name": "#%%\n"
        },
        "id": "l8Y7hVpPfK8p"
      },
      "outputs": [],
      "source": [
        "weights = np.array([0.3, 0.4, 0.2, 0.1])\n",
        "marks = np.array([7, 0, 8, 6])\n",
        "\n",
        "assert result_mark(weights, marks) == 4"
      ]
    },
    {
      "cell_type": "markdown",
      "metadata": {
        "id": "SYwvZYVLfK8p"
      },
      "source": [
        "### Задание 2"
      ]
    },
    {
      "cell_type": "markdown",
      "metadata": {
        "id": "dInDnthifK8p"
      },
      "source": [
        "Напишите функцию, меняющую каждое третье (начиная с 0) значение массива целых чисел на заданное число. Например, если на вход поступает массив `array([3, 5, 1, 0, -3, 22, 213436])` и число `-111`, то на выходе должен получиться массив `array([-111, 5, 1, -111, -3, 22, -111])`."
      ]
    },
    {
      "cell_type": "code",
      "execution_count": null,
      "metadata": {
        "pycharm": {
          "name": "#%%\n"
        },
        "id": "yakUCAGOfK8p"
      },
      "outputs": [],
      "source": [
        "def change_array(array: np.array, number: int) -> np.array:\n",
        "    array[::3] = number\n",
        "    return array"
      ]
    },
    {
      "cell_type": "code",
      "execution_count": null,
      "metadata": {
        "pycharm": {
          "name": "#%%\n"
        },
        "id": "_t-NsQVvfK8p"
      },
      "outputs": [],
      "source": [
        "array = np.array([3, 5, 1, 0, -3, 22, 213436])\n",
        "number = -111\n",
        "\n",
        "assert np.allclose(change_array(array, number), np.array([-111, 5, 1, -111, -3, 22, -111]))"
      ]
    },
    {
      "cell_type": "code",
      "execution_count": null,
      "metadata": {
        "pycharm": {
          "name": "#%%\n"
        },
        "id": "gq_fv_FqfK8q"
      },
      "outputs": [],
      "source": [
        "array = np.array([3, 14, 15, 92, 6])\n",
        "number = 8\n",
        "\n",
        "assert np.allclose(change_array(array, number), np.array([8, 14, 15, 8, 6]))"
      ]
    },
    {
      "cell_type": "markdown",
      "metadata": {
        "id": "-hJibS3afK8q"
      },
      "source": [
        "### Задание 3"
      ]
    },
    {
      "cell_type": "markdown",
      "metadata": {
        "id": "Y-YmEs3hfK8q"
      },
      "source": [
        "Напишите функцию, выдающую индексы «близких» элементов заданных массивов, а именно тех пар элементов, чей модуль разницы не превосходит заданного значения. Например, если на вход поступают массив `array([1.5, 0.5, 2, -4.1, -3, 6, -1])`, массив `array([1.2, 0.5, 1, -4, 3, 0, -1.2])` и число `0.5`, то на выходе должен получиться массив `array([0, 1, 3, 6])` (**важно: не `tuple`, а одномерный массив типа `numpy.ndarray` (то есть `.ndim` от него равно 1)!**)."
      ]
    },
    {
      "cell_type": "code",
      "execution_count": null,
      "metadata": {
        "pycharm": {
          "name": "#%%\n"
        },
        "id": "m9-rQ74EfK8q"
      },
      "outputs": [],
      "source": [
        "def find_close(array1: np.array, array2: np.array,\n",
        "               precision: float) -> np.array:\n",
        "    res = np.array\n",
        "    res = (abs(array1-array2) <= precision)\n",
        "    res = np.flatnonzero(res)\n",
        "    return res"
      ]
    },
    {
      "cell_type": "code",
      "execution_count": null,
      "metadata": {
        "pycharm": {
          "name": "#%%\n"
        },
        "id": "FK4VohpLfK8q"
      },
      "outputs": [],
      "source": [
        "array1 = np.array([1.5, 0.5, 2, -4.1, -3, 6, -1])\n",
        "array2 = np.array([1.2, 0.5, 1, -4.0,  3, 0, -1.2])\n",
        "precision = 0.5\n",
        "res = find_close(array1, array2, precision)\n",
        "\n",
        "assert res.ndim == 1\n",
        "assert np.allclose(res, np.array([0, 1, 3, 6]))"
      ]
    },
    {
      "cell_type": "code",
      "execution_count": null,
      "metadata": {
        "pycharm": {
          "name": "#%%\n"
        },
        "id": "Befdnu44fK8q"
      },
      "outputs": [],
      "source": [
        "array1 = np.array([3.1415, 2.7182, 1.6180, 6.6261])\n",
        "array2 = np.array([6.6730, 1.3807, -1,     6.0222])\n",
        "precision = 1.7\n",
        "res = find_close(array1, array2, precision)\n",
        "\n",
        "assert res.ndim == 1\n",
        "assert np.allclose(res, np.array([1, 3]))"
      ]
    },
    {
      "cell_type": "markdown",
      "metadata": {
        "id": "Cm6NWW7ZfK8q"
      },
      "source": [
        "### Задание 4"
      ]
    },
    {
      "cell_type": "markdown",
      "metadata": {
        "id": "eWTt1M41fK8r"
      },
      "source": [
        "Напишите функцию, которая составляет блочную матрицу из четырех блоков, где каждый блок - это заданная матрица. Например, если на вход поступает матрица\n",
        "$$\n",
        "\\begin{pmatrix}\n",
        "0 & 1 & 2\\\\\n",
        "3 & 4 & 5\\\\\n",
        "\\end{pmatrix},\n",
        "$$\n",
        "то ответом будет матрица\n",
        "$$\n",
        "\\begin{pmatrix}\n",
        "0 & 1 & 2 & 0 & 1 & 2\\\\\n",
        "3 & 4 & 5 & 3 & 4 & 5\\\\\n",
        "0 & 1 & 2 & 0 & 1 & 2\\\\\n",
        "3 & 4 & 5 & 3 & 4 & 5\\\\\n",
        "\\end{pmatrix}\n",
        "$$"
      ]
    },
    {
      "cell_type": "code",
      "execution_count": null,
      "metadata": {
        "pycharm": {
          "name": "#%%\n"
        },
        "id": "66MI2TVvfK8r"
      },
      "outputs": [],
      "source": [
        "def block_matrix(block: np.array) -> np.array:\n",
        "    return np.vstack((np.hstack((block, block)), np.hstack((block, block))))"
      ]
    },
    {
      "cell_type": "code",
      "execution_count": null,
      "metadata": {
        "pycharm": {
          "name": "#%%\n"
        },
        "id": "LY6JXdmhfK8r"
      },
      "outputs": [],
      "source": [
        "block = np.array([[1, 3, 3], [7, 0, 0]])\n",
        "\n",
        "assert np.allclose(\n",
        "    block_matrix(block),\n",
        "    np.array([[1, 3, 3, 1, 3, 3],\n",
        "              [7, 0, 0, 7, 0, 0],\n",
        "              [1, 3, 3, 1, 3, 3],\n",
        "              [7, 0, 0, 7, 0, 0]])\n",
        ")"
      ]
    },
    {
      "cell_type": "markdown",
      "metadata": {
        "id": "M1YRJGhTfK8r"
      },
      "source": [
        "### Задание 5"
      ]
    },
    {
      "cell_type": "markdown",
      "metadata": {
        "id": "zOG1adV8fK8r"
      },
      "source": [
        "Напишите функцию, вычисляющую произведение всех ненулевых диагональных элементов на диагонали данной квадратной матрицы. Например, если на вход поступает матрица\n",
        "$$\n",
        "\\begin{pmatrix}\n",
        "0 & 1 & 2\\\\\n",
        "3 & 4 & 5\\\\\n",
        "6 & 7 & 8\\\\\n",
        "\\end{pmatrix},\n",
        "$$\n",
        "то ответом будет 32.\n",
        "\n",
        "Элементы матрицы считать целочисленными."
      ]
    },
    {
      "cell_type": "code",
      "execution_count": null,
      "metadata": {
        "pycharm": {
          "name": "#%%\n"
        },
        "id": "FqoxZk1afK8r"
      },
      "outputs": [],
      "source": [
        "def diag_prod(matrix: np.array) -> int:\n",
        "     return np.prod(np.diagonal(matrix) [np.diagonal(matrix) !=0])"
      ]
    },
    {
      "cell_type": "code",
      "execution_count": null,
      "metadata": {
        "pycharm": {
          "name": "#%%\n"
        },
        "id": "2OgvRIyHfK8r"
      },
      "outputs": [],
      "source": [
        "matrix = np.array([[0, 1, 2, 3],\n",
        "                   [4, 5, 6, 7],\n",
        "                   [8, 9, 10, 11],\n",
        "                   [12, 13, 14, 15]])\n",
        "\n",
        "assert diag_prod(matrix) == 750"
      ]
    },
    {
      "cell_type": "markdown",
      "metadata": {
        "id": "2q1-ny6vfK8r"
      },
      "source": [
        "### Задание 6"
      ]
    },
    {
      "cell_type": "markdown",
      "metadata": {
        "id": "8H5dPSX9fK8s"
      },
      "source": [
        "Для улучшения качества работы некоторых алгоритмов машинного обучения может быть полезно использовать [нормализацию данных](https://vk.cc/8xmfQk), чтобы привести признаки в выборке к одному масштабу — а именно, из каждого столбца вычесть среднее его значений и поделить на их стандартное отклонение. Напишите функцию, нормализующую входящую матрицу (по столбцам). Например, если на вход подается матрица\n",
        "$$\n",
        "\\begin{pmatrix}\n",
        "1 & 4 & 4200\\\\\n",
        "0 & 10 & 5000\\\\\n",
        "1 & 2 & 1000\\\\\n",
        "\\end{pmatrix},\n",
        "$$\n",
        "то результатом с точностью до сотых будет матрица\n",
        "$$\n",
        "\\begin{pmatrix}\n",
        "0.71 & -0.39 & 0.46\\\\\n",
        "-1.41 & 1.37 & 0.93\\\\\n",
        "0.71 & -0.98 & -1.39\\\\\n",
        "\\end{pmatrix}\n",
        "$$\n",
        "\n",
        "Учтите, что в вашем матрице не должно получаться никаких nan. Подумайте, в каком случае они могут возникнуть и как обойти эту проблему.\n",
        "\n",
        "_Подсказка. Казалось бы, при чем тут деление на ноль._"
      ]
    },
    {
      "cell_type": "code",
      "execution_count": null,
      "metadata": {
        "pycharm": {
          "name": "#%%\n"
        },
        "id": "0qBe5KTmfK8s"
      },
      "outputs": [],
      "source": [
        "def normalize(matrix: np.array) -> np.array:\n",
        "    return (matrix-np.mean(matrix, axis=0))/np.std(matrix, axis=0)"
      ]
    },
    {
      "cell_type": "code",
      "execution_count": null,
      "metadata": {
        "pycharm": {
          "name": "#%%\n"
        },
        "id": "5IPU4BpgfK8s"
      },
      "outputs": [],
      "source": [
        "matrix = np.array([[1, 4, 4200], [0, 10, 5000], [1, 2, 1000]])\n",
        "\n",
        "assert np.allclose(\n",
        "    normalize(matrix),\n",
        "    np.array([[ 0.7071, -0.39223,  0.46291],\n",
        "              [-1.4142,  1.37281,  0.92582],\n",
        "              [ 0.7071, -0.98058, -1.38873]])\n",
        ")"
      ]
    },
    {
      "cell_type": "code",
      "execution_count": null,
      "metadata": {
        "pycharm": {
          "name": "#%%\n"
        },
        "id": "V6G8GUJxfK8s"
      },
      "outputs": [],
      "source": [
        "matrix = np.array([[-7, 2, 42], [2, 10, 50], [5, 4, 10]])\n",
        "\n",
        "assert np.allclose(\n",
        "    normalize(matrix),\n",
        "    np.array([[-1.37281, -0.98058,  0.46291],\n",
        "              [ 0.39223,  1.37281,  0.92582],\n",
        "              [ 0.98058, -0.39223, -1.38873]])\n",
        ")"
      ]
    },
    {
      "cell_type": "markdown",
      "metadata": {
        "id": "P0YAkyIQfK8s"
      },
      "source": [
        "### Задание 7"
      ]
    },
    {
      "cell_type": "markdown",
      "metadata": {
        "id": "vHer52mLfK8s"
      },
      "source": [
        "Написать функцию, возвращающую максимальный элемент в векторе x среди элементов, перед которыми стоит нулевой. <br>\n",
        "Для x = np.array([6, 2, 0, 3, 0, 0, 5, 7, 0]) ответом является 5."
      ]
    },
    {
      "cell_type": "code",
      "execution_count": null,
      "metadata": {
        "pycharm": {
          "name": "#%%\n"
        },
        "id": "AE3dHmuVfK8t"
      },
      "outputs": [],
      "source": [
        "def prevZeroMax(matrix: np.array) -> int:\n",
        "    zero = matrix ==0\n",
        "    return matrix[1:][zero[:-1]].max()"
      ]
    },
    {
      "cell_type": "code",
      "execution_count": null,
      "metadata": {
        "id": "WC5xvgMWfK8t"
      },
      "outputs": [],
      "source": [
        "#matrix = np.array([6, 2, 0, 3, 0, 0, 5, 7, 0])\n",
        "#zero = matrix ==0\n",
        "#zero[:-1]\n",
        "#matrix[1:]\n",
        "#matrix[1:][zero[:-1]]"
      ]
    },
    {
      "cell_type": "code",
      "execution_count": null,
      "metadata": {
        "id": "6YGzYpR8fK8u"
      },
      "outputs": [],
      "source": [
        "#matrix = np.array([1, 0, 1, 0, 4, 2, 0])\n",
        "#zero = matrix ==0\n",
        "#zero[:-1]\n",
        "#matrix[1:]\n",
        "#matrix[1:][zero[:-1]]"
      ]
    },
    {
      "cell_type": "code",
      "execution_count": null,
      "metadata": {
        "pycharm": {
          "name": "#%%\n"
        },
        "id": "rnm0J0hvfK8u"
      },
      "outputs": [],
      "source": [
        "coefs = np.array([6, 2, 0, 3, 0, 0, 5, 7, 0])\n",
        "\n",
        "assert  prevZeroMax(coefs) == 5"
      ]
    },
    {
      "cell_type": "code",
      "execution_count": null,
      "metadata": {
        "pycharm": {
          "name": "#%%\n"
        },
        "id": "EsBtR0tQfK8u"
      },
      "outputs": [],
      "source": [
        "coefs = np.array([1, 0, 1, 0, 4, 2, 0])\n",
        "\n",
        "assert prevZeroMax(coefs) == 4\n"
      ]
    },
    {
      "cell_type": "markdown",
      "metadata": {
        "id": "VT2FNIcFfK80"
      },
      "source": [
        "### Задание 8"
      ]
    },
    {
      "cell_type": "markdown",
      "metadata": {
        "id": "L6fG3iRzfK80"
      },
      "source": [
        "Напишите функцию, делающую данную [треугольную матрицу](https://ru.wikipedia.org/wiki/%D0%A2%D1%80%D0%B5%D1%83%D0%B3%D0%BE%D0%BB%D1%8C%D0%BD%D0%B0%D1%8F_%D0%BC%D0%B0%D1%82%D1%80%D0%B8%D1%86%D0%B0) симметричной. Например, если на вход поступает матрица\n",
        "$$\n",
        "\\begin{pmatrix}\n",
        "1 & 2 & 3 & 4\\\\\n",
        "0 & 5 & 6 & 7\\\\\n",
        "0 & 0 & 8 & 9\\\\\n",
        "0 & 0 & 0 & 10\\\\\n",
        "\\end{pmatrix},\n",
        "$$\n",
        "то на выходе должна быть матрица\n",
        "$$\n",
        "\\begin{pmatrix}\n",
        "1 & 2 & 3 & 4\\\\\n",
        "2 & 5 & 6 & 7\\\\\n",
        "3 & 6 & 8 & 9\\\\\n",
        "4 & 7 & 9 & 10\\\\\n",
        "\\end{pmatrix}.\n",
        "$$"
      ]
    },
    {
      "cell_type": "code",
      "execution_count": null,
      "metadata": {
        "pycharm": {
          "name": "#%%\n"
        },
        "id": "tFLShl8MfK81"
      },
      "outputs": [],
      "source": [
        "def make_symmetric(matrix: np.array) -> np.array:\n",
        "    matrix1 = (matrix.copy()).T\n",
        "    np.fill_diagonal(matrix1, 0)\n",
        "    return matrix + matrix1"
      ]
    },
    {
      "cell_type": "code",
      "execution_count": null,
      "metadata": {
        "pycharm": {
          "name": "#%%\n"
        },
        "id": "CyH9LCoafK81"
      },
      "outputs": [],
      "source": [
        "matrix = np.array([[1, 2, 3, 4], [0, 5, 6, 7], [0, 0, 8, 9], [0, 0, 0, 10]])\n",
        "\n",
        "assert np.allclose(\n",
        "    make_symmetric(matrix),\n",
        "    np.array([[ 1,  2,  3,  4],\n",
        "              [ 2,  5,  6,  7],\n",
        "              [ 3,  6,  8,  9],\n",
        "              [ 4,  7,  9, 10]])\n",
        ")"
      ]
    },
    {
      "cell_type": "code",
      "execution_count": null,
      "metadata": {
        "pycharm": {
          "name": "#%%\n"
        },
        "id": "VDWksMGPfK81"
      },
      "outputs": [],
      "source": [
        "matrix = np.array([[10, 21, 32, 49], [0, 53, 62, 78], [0, 0, 82, 92], [0, 0, 0, 10]])\n",
        "\n",
        "assert np.allclose(\n",
        "    make_symmetric(matrix),\n",
        "    np.array([[10, 21, 32, 49],\n",
        "              [21, 53, 62, 78],\n",
        "              [32, 62, 82, 92],\n",
        "              [49, 78, 92, 10]])\n",
        ")"
      ]
    },
    {
      "cell_type": "markdown",
      "metadata": {
        "id": "yJbOGWb3fK81"
      },
      "source": [
        "### Задание 9"
      ]
    },
    {
      "cell_type": "markdown",
      "metadata": {
        "id": "Bo_YfByCfK81"
      },
      "source": [
        "Напишите функцию, создающую прямоугольную матрицу из m одинаковых строк, заполненных последовательными натуральными числами от a до b включительно в возрастающем порядке. Например, если m = 5, a = 3, b = 10, то на выходе будет матрица\n",
        "$$\n",
        "\\begin{pmatrix}\n",
        "3 & 4 & 5 & 6 & 7 & 8 & 9 & 10\\\\\n",
        "3 & 4 & 5 & 6 & 7 & 8 & 9 & 10\\\\\n",
        "3 & 4 & 5 & 6 & 7 & 8 & 9 & 10\\\\\n",
        "3 & 4 & 5 & 6 & 7 & 8 & 9 & 10\\\\\n",
        "3 & 4 & 5 & 6 & 7 & 8 & 9 & 10\\\\\n",
        "\\end{pmatrix}\n",
        "$$"
      ]
    },
    {
      "cell_type": "code",
      "execution_count": null,
      "metadata": {
        "pycharm": {
          "name": "#%%\n"
        },
        "id": "gKnb7QUNfK82"
      },
      "outputs": [],
      "source": [
        "def construct_matrix(m: int, a: int, b: int) -> np.array:\n",
        "    return np.full((m, b+1-a), range(a,b+1))"
      ]
    },
    {
      "cell_type": "code",
      "execution_count": null,
      "metadata": {
        "pycharm": {
          "name": "#%%\n"
        },
        "id": "jk51QQcFfK82"
      },
      "outputs": [],
      "source": [
        "m = 5\n",
        "a = 3\n",
        "b = 10\n",
        "\n",
        "assert np.allclose(\n",
        "    construct_matrix(m, a, b),\n",
        "    np.array([[ 3,  4,  5,  6,  7,  8,  9, 10],\n",
        "              [ 3,  4,  5,  6,  7,  8,  9, 10],\n",
        "              [ 3,  4,  5,  6,  7,  8,  9, 10],\n",
        "              [ 3,  4,  5,  6,  7,  8,  9, 10],\n",
        "              [ 3,  4,  5,  6,  7,  8,  9, 10]])\n",
        ")"
      ]
    },
    {
      "cell_type": "code",
      "execution_count": null,
      "metadata": {
        "pycharm": {
          "name": "#%%\n"
        },
        "id": "f9qd1S0rfK82"
      },
      "outputs": [],
      "source": [
        "m = 3\n",
        "a = 2\n",
        "b = 6\n",
        "\n",
        "assert np.allclose(\n",
        "    construct_matrix(m, a, b),\n",
        "    np.array([[2, 3, 4, 5, 6],\n",
        "              [2, 3, 4, 5, 6],\n",
        "              [2, 3, 4, 5, 6]])\n",
        ")"
      ]
    },
    {
      "cell_type": "markdown",
      "metadata": {
        "id": "0ifauwLGfK82"
      },
      "source": [
        "### Задание 10"
      ]
    },
    {
      "cell_type": "markdown",
      "metadata": {
        "id": "TzeqWx78fK82"
      },
      "source": [
        "Напишите функцию, вычисляющую [косинусную близость](https://en.wikipedia.org/wiki/Cosine_similarity) двух векторов. Например, если на вход поступают вектора `array([-2, 1, 0, -5, 4, 3, -3])` и `array([0, 2, -2, 10, 6, 0, 0])`, ответом будет -0.25."
      ]
    },
    {
      "cell_type": "code",
      "execution_count": null,
      "metadata": {
        "pycharm": {
          "name": "#%%\n"
        },
        "id": "tk5rwjmCfK83"
      },
      "outputs": [],
      "source": [
        "def cosine_similarity(vec1: np.array, vec2: np.array) -> float:\n",
        "  vec1 = np.array([-2, 1,  0, -5, 4, 3, -3])\n",
        "  vec2 = np.array([ 0, 2, -2, 10, 6, 0,  0])\n",
        "  from math import sqrt\n",
        "  return np.dot(vec1, vec2)/(sqrt(np.dot(vec1, vec1))*sqrt(np.dot(vec2, vec2)))"
      ]
    },
    {
      "cell_type": "code",
      "execution_count": null,
      "metadata": {
        "pycharm": {
          "name": "#%%\n"
        },
        "colab": {
          "base_uri": "https://localhost:8080/"
        },
        "id": "L0YdJ3vHfK83",
        "outputId": "d5d831a0-6cc2-41fd-ebc9-f32163cb13d5"
      },
      "outputs": [
        {
          "output_type": "execute_result",
          "data": {
            "text/plain": [
              "-0.25"
            ]
          },
          "metadata": {},
          "execution_count": 12
        }
      ],
      "source": [
        "vec1 = np.array([-2, 1,  0, -5, 4, 3, -3])\n",
        "vec2 = np.array([ 0, 2, -2, 10, 6, 0,  0])\n",
        "cosine_similarity(vec1, vec2)\n",
        "\n",
        "#assert np.allclose(cosine_similarity(vec1, vec2), -0.25)"
      ]
    },
    {
      "cell_type": "code",
      "execution_count": null,
      "metadata": {
        "pycharm": {
          "name": "#%%\n"
        },
        "colab": {
          "base_uri": "https://localhost:8080/",
          "height": 182
        },
        "id": "h9JSgOZFfK83",
        "outputId": "3f662ed3-448d-4f03-c4a2-9eaa87bdcd73"
      },
      "outputs": [
        {
          "output_type": "error",
          "ename": "AssertionError",
          "evalue": "",
          "traceback": [
            "\u001b[0;31m---------------------------------------------------------------------------\u001b[0m",
            "\u001b[0;31mAssertionError\u001b[0m                            Traceback (most recent call last)",
            "\u001b[0;32m<ipython-input-37-d71357a17d88>\u001b[0m in \u001b[0;36m<cell line: 4>\u001b[0;34m()\u001b[0m\n\u001b[1;32m      2\u001b[0m \u001b[0mvec2\u001b[0m \u001b[0;34m=\u001b[0m \u001b[0mnp\u001b[0m\u001b[0;34m.\u001b[0m\u001b[0marray\u001b[0m\u001b[0;34m(\u001b[0m\u001b[0;34m[\u001b[0m \u001b[0;36m3\u001b[0m\u001b[0;34m,\u001b[0m \u001b[0;36m2\u001b[0m\u001b[0;34m,\u001b[0m \u001b[0;34m-\u001b[0m\u001b[0;36m4\u001b[0m\u001b[0;34m,\u001b[0m \u001b[0;34m-\u001b[0m\u001b[0;36m1\u001b[0m\u001b[0;34m,\u001b[0m \u001b[0;36m3\u001b[0m\u001b[0;34m,\u001b[0m \u001b[0;36m2\u001b[0m\u001b[0;34m,\u001b[0m  \u001b[0;36m2\u001b[0m\u001b[0;34m]\u001b[0m\u001b[0;34m)\u001b[0m\u001b[0;34m\u001b[0m\u001b[0;34m\u001b[0m\u001b[0m\n\u001b[1;32m      3\u001b[0m \u001b[0;34m\u001b[0m\u001b[0m\n\u001b[0;32m----> 4\u001b[0;31m \u001b[0;32massert\u001b[0m \u001b[0mnp\u001b[0m\u001b[0;34m.\u001b[0m\u001b[0mallclose\u001b[0m\u001b[0;34m(\u001b[0m\u001b[0mcosine_similarity\u001b[0m\u001b[0;34m(\u001b[0m\u001b[0mvec1\u001b[0m\u001b[0;34m,\u001b[0m \u001b[0mvec2\u001b[0m\u001b[0;34m)\u001b[0m\u001b[0;34m,\u001b[0m \u001b[0;34m-\u001b[0m\u001b[0;36m0.119929\u001b[0m\u001b[0;34m)\u001b[0m\u001b[0;34m\u001b[0m\u001b[0;34m\u001b[0m\u001b[0m\n\u001b[0m",
            "\u001b[0;31mAssertionError\u001b[0m: "
          ]
        }
      ],
      "source": [
        "vec1 = np.array([-4, 2,  9, -8, 9, 0, -2])\n",
        "vec2 = np.array([ 3, 2, -4, -1, 3, 2,  2])\n",
        "cosine_similarity(vec1, vec2)\n",
        "\n",
        "assert np.allclose(cosine_similarity(vec1, vec2), -0.119929)"
      ]
    }
  ],
  "metadata": {
    "kernelspec": {
      "display_name": "Python 3",
      "language": "python",
      "name": "python3"
    },
    "language_info": {
      "codemirror_mode": {
        "name": "ipython",
        "version": 3
      },
      "file_extension": ".py",
      "mimetype": "text/x-python",
      "name": "python",
      "nbconvert_exporter": "python",
      "pygments_lexer": "ipython3",
      "version": "3.8.5"
    },
    "colab": {
      "provenance": []
    }
  },
  "nbformat": 4,
  "nbformat_minor": 0
}