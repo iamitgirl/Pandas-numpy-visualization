{
  "cells": [
    {
      "cell_type": "markdown",
      "metadata": {
        "_uuid": "21c25e4f8bb31570029fd6b069131a5d00f84cf1",
        "id": "sN0dXZ84jV-D"
      },
      "source": [
        "# Домашнее задание 2 (5 баллов).\n",
        "\n",
        "Все задания ниже имеют равный вес (5/16)."
      ]
    },
    {
      "cell_type": "code",
      "execution_count": null,
      "metadata": {
        "_uuid": "568eb2d31004b87d22e119112ae01a1e75105f1d",
        "id": "HJoXEyDpjV-H"
      },
      "outputs": [],
      "source": [
        "import pandas as pd"
      ]
    },
    {
      "cell_type": "markdown",
      "metadata": {
        "id": "opTjGXfrjV-J"
      },
      "source": [
        "#### Описание данных\n",
        "\n",
        "В папке Data находится информация о студентах. Всего 10 групп студентов. Файлы делятся на две категории:\n",
        "    * Students_info_i - информация о студентах из группы i\n",
        "    * Students_marks_i - оценки студентов из группы i за экзамены"
      ]
    },
    {
      "cell_type": "markdown",
      "metadata": {
        "id": "z6-cMW1ZjV-K"
      },
      "source": [
        "### Одно из важных достоинств pandas $-$ это удобные методы реляционного взаимодействия с данными, аналогичные, например, возможностям SQL для слияния и конкатенации таблиц: merge, join, concat. Наличие готовых методов позволяет не реализовывать самостоятельно поэлементную обработку данных и оперировать сразу целыми таблицами данных.\n",
        "\n",
        "Подробно об этих методах посмотрите тут: https://www.kaggle.com/residentmario/renaming-and-combining#Combining"
      ]
    },
    {
      "cell_type": "markdown",
      "metadata": {
        "id": "c1OoSG6TjV-L"
      },
      "source": [
        "#### Задание 1. Соберите всю информацию о студентах в одну таблицу df. В получившейся таблице должна быть информация и оценки всех студентов из всех групп. Напечатайте несколько строк таблицы для демонстрации результата.¶"
      ]
    },
    {
      "cell_type": "code",
      "execution_count": null,
      "metadata": {
        "id": "eWXRXmNpjV-M"
      },
      "outputs": [],
      "source": [
        "import matplotlib.pyplot as plt\n",
        "import numpy as np\n",
        "import pandas as pd"
      ]
    },
    {
      "cell_type": "code",
      "execution_count": null,
      "metadata": {
        "id": "dRnvsI-FjV-O"
      },
      "outputs": [],
      "source": [
        "df0_i = pd.read_csv(\"Students_info_0.csv\", sep=\",\", index_col=0)\n",
        "df1_i = pd.read_csv(\"Students_info_1.csv\", sep=\",\", index_col=0)\n",
        "df2_i = pd.read_csv(\"Students_info_2.csv\", sep=\",\", index_col=0)\n",
        "df3_i = pd.read_csv(\"Students_info_3.csv\", sep=\",\", index_col=0)\n",
        "df4_i = pd.read_csv(\"Students_info_4.csv\", sep=\",\", index_col=0)\n",
        "df5_i = pd.read_csv(\"Students_info_5.csv\", sep=\",\", index_col=0)\n",
        "df6_i = pd.read_csv(\"Students_info_6.csv\", sep=\",\", index_col=0)\n",
        "df7_i = pd.read_csv(\"Students_info_7.csv\", sep=\",\", index_col=0)\n",
        "df8_i = pd.read_csv(\"Students_info_8.csv\", sep=\",\", index_col=0)\n",
        "df9_i = pd.read_csv(\"Students_info_9.csv\", sep=\",\", index_col=0)\n",
        "\n",
        "df0_m = pd.read_csv(\"Students_marks_0.csv\", sep=\",\", index_col=0)\n",
        "df1_m = pd.read_csv(\"Students_marks_1.csv\", sep=\",\", index_col=0)\n",
        "df2_m = pd.read_csv(\"Students_marks_2.csv\", sep=\",\", index_col=0)\n",
        "df3_m = pd.read_csv(\"Students_marks_3.csv\", sep=\",\", index_col=0)\n",
        "df4_m = pd.read_csv(\"Students_marks_4.csv\", sep=\",\", index_col=0)\n",
        "df5_m = pd.read_csv(\"Students_marks_5.csv\", sep=\",\", index_col=0)\n",
        "df6_m = pd.read_csv(\"Students_marks_6.csv\", sep=\",\", index_col=0)\n",
        "df7_m = pd.read_csv(\"Students_marks_7.csv\", sep=\",\", index_col=0)\n",
        "df8_m = pd.read_csv(\"Students_marks_8.csv\", sep=\",\", index_col=0)\n",
        "df9_m = pd.read_csv(\"Students_marks_9.csv\", sep=\",\", index_col=0)"
      ]
    },
    {
      "cell_type": "code",
      "execution_count": null,
      "metadata": {
        "id": "D_nz-0SfjV-P",
        "outputId": "3ab639fc-3bea-4d62-b77b-86115512dc4a"
      },
      "outputs": [
        {
          "data": {
            "text/html": [
              "<div>\n",
              "<style scoped>\n",
              "    .dataframe tbody tr th:only-of-type {\n",
              "        vertical-align: middle;\n",
              "    }\n",
              "\n",
              "    .dataframe tbody tr th {\n",
              "        vertical-align: top;\n",
              "    }\n",
              "\n",
              "    .dataframe thead th {\n",
              "        text-align: right;\n",
              "    }\n",
              "</style>\n",
              "<table border=\"1\" class=\"dataframe\">\n",
              "  <thead>\n",
              "    <tr style=\"text-align: right;\">\n",
              "      <th></th>\n",
              "      <th>gender</th>\n",
              "      <th>race/ethnicity</th>\n",
              "      <th>parental level of education</th>\n",
              "      <th>lunch</th>\n",
              "      <th>test preparation course</th>\n",
              "      <th>group</th>\n",
              "    </tr>\n",
              "    <tr>\n",
              "      <th>index</th>\n",
              "      <th></th>\n",
              "      <th></th>\n",
              "      <th></th>\n",
              "      <th></th>\n",
              "      <th></th>\n",
              "      <th></th>\n",
              "    </tr>\n",
              "  </thead>\n",
              "  <tbody>\n",
              "    <tr>\n",
              "      <th>0</th>\n",
              "      <td>female</td>\n",
              "      <td>group B</td>\n",
              "      <td>bachelor's degree</td>\n",
              "      <td>standard</td>\n",
              "      <td>none</td>\n",
              "      <td>group1</td>\n",
              "    </tr>\n",
              "    <tr>\n",
              "      <th>1</th>\n",
              "      <td>female</td>\n",
              "      <td>group C</td>\n",
              "      <td>some college</td>\n",
              "      <td>standard</td>\n",
              "      <td>completed</td>\n",
              "      <td>group1</td>\n",
              "    </tr>\n",
              "    <tr>\n",
              "      <th>2</th>\n",
              "      <td>female</td>\n",
              "      <td>group B</td>\n",
              "      <td>master's degree</td>\n",
              "      <td>standard</td>\n",
              "      <td>none</td>\n",
              "      <td>group1</td>\n",
              "    </tr>\n",
              "    <tr>\n",
              "      <th>3</th>\n",
              "      <td>male</td>\n",
              "      <td>group A</td>\n",
              "      <td>associate's degree</td>\n",
              "      <td>free/reduced</td>\n",
              "      <td>none</td>\n",
              "      <td>group1</td>\n",
              "    </tr>\n",
              "    <tr>\n",
              "      <th>4</th>\n",
              "      <td>male</td>\n",
              "      <td>group C</td>\n",
              "      <td>some college</td>\n",
              "      <td>standard</td>\n",
              "      <td>none</td>\n",
              "      <td>group1</td>\n",
              "    </tr>\n",
              "  </tbody>\n",
              "</table>\n",
              "</div>"
            ],
            "text/plain": [
              "       gender race/ethnicity parental level of education         lunch  \\\n",
              "index                                                                    \n",
              "0      female        group B           bachelor's degree      standard   \n",
              "1      female        group C                some college      standard   \n",
              "2      female        group B             master's degree      standard   \n",
              "3        male        group A          associate's degree  free/reduced   \n",
              "4        male        group C                some college      standard   \n",
              "\n",
              "      test preparation course   group  \n",
              "index                                  \n",
              "0                        none  group1  \n",
              "1                   completed  group1  \n",
              "2                        none  group1  \n",
              "3                        none  group1  \n",
              "4                        none  group1  "
            ]
          },
          "execution_count": 26,
          "metadata": {},
          "output_type": "execute_result"
        }
      ],
      "source": [
        "df0_i.head()"
      ]
    },
    {
      "cell_type": "code",
      "execution_count": null,
      "metadata": {
        "id": "xyhUVvtsjV-Q",
        "outputId": "2fa502c5-502c-44e3-d362-0f3c162119fb"
      },
      "outputs": [
        {
          "data": {
            "text/html": [
              "<div>\n",
              "<style scoped>\n",
              "    .dataframe tbody tr th:only-of-type {\n",
              "        vertical-align: middle;\n",
              "    }\n",
              "\n",
              "    .dataframe tbody tr th {\n",
              "        vertical-align: top;\n",
              "    }\n",
              "\n",
              "    .dataframe thead th {\n",
              "        text-align: right;\n",
              "    }\n",
              "</style>\n",
              "<table border=\"1\" class=\"dataframe\">\n",
              "  <thead>\n",
              "    <tr style=\"text-align: right;\">\n",
              "      <th></th>\n",
              "      <th>math score</th>\n",
              "      <th>reading score</th>\n",
              "      <th>writing score</th>\n",
              "    </tr>\n",
              "    <tr>\n",
              "      <th>index</th>\n",
              "      <th></th>\n",
              "      <th></th>\n",
              "      <th></th>\n",
              "    </tr>\n",
              "  </thead>\n",
              "  <tbody>\n",
              "    <tr>\n",
              "      <th>0</th>\n",
              "      <td>72</td>\n",
              "      <td>72</td>\n",
              "      <td>74</td>\n",
              "    </tr>\n",
              "    <tr>\n",
              "      <th>1</th>\n",
              "      <td>69</td>\n",
              "      <td>90</td>\n",
              "      <td>88</td>\n",
              "    </tr>\n",
              "    <tr>\n",
              "      <th>2</th>\n",
              "      <td>90</td>\n",
              "      <td>95</td>\n",
              "      <td>93</td>\n",
              "    </tr>\n",
              "    <tr>\n",
              "      <th>3</th>\n",
              "      <td>47</td>\n",
              "      <td>57</td>\n",
              "      <td>44</td>\n",
              "    </tr>\n",
              "    <tr>\n",
              "      <th>4</th>\n",
              "      <td>76</td>\n",
              "      <td>78</td>\n",
              "      <td>75</td>\n",
              "    </tr>\n",
              "  </tbody>\n",
              "</table>\n",
              "</div>"
            ],
            "text/plain": [
              "       math score  reading score  writing score\n",
              "index                                          \n",
              "0              72             72             74\n",
              "1              69             90             88\n",
              "2              90             95             93\n",
              "3              47             57             44\n",
              "4              76             78             75"
            ]
          },
          "execution_count": 27,
          "metadata": {},
          "output_type": "execute_result"
        }
      ],
      "source": [
        "df0_m.head()"
      ]
    },
    {
      "cell_type": "code",
      "execution_count": null,
      "metadata": {
        "id": "u8xky07HjV-R"
      },
      "outputs": [],
      "source": [
        "df0 = pd.concat([df0_i, df1_i, df2_i, df3_i, df4_i, df5_i, df6_i, df7_i, df8_i, df9_i])"
      ]
    },
    {
      "cell_type": "code",
      "execution_count": null,
      "metadata": {
        "id": "fQVW5g8RjV-R",
        "outputId": "3375294f-0e72-4954-a9ee-2f9d7ee7846d"
      },
      "outputs": [
        {
          "data": {
            "text/html": [
              "<div>\n",
              "<style scoped>\n",
              "    .dataframe tbody tr th:only-of-type {\n",
              "        vertical-align: middle;\n",
              "    }\n",
              "\n",
              "    .dataframe tbody tr th {\n",
              "        vertical-align: top;\n",
              "    }\n",
              "\n",
              "    .dataframe thead th {\n",
              "        text-align: right;\n",
              "    }\n",
              "</style>\n",
              "<table border=\"1\" class=\"dataframe\">\n",
              "  <thead>\n",
              "    <tr style=\"text-align: right;\">\n",
              "      <th></th>\n",
              "      <th>gender</th>\n",
              "      <th>race/ethnicity</th>\n",
              "      <th>parental level of education</th>\n",
              "      <th>lunch</th>\n",
              "      <th>test preparation course</th>\n",
              "      <th>group</th>\n",
              "    </tr>\n",
              "    <tr>\n",
              "      <th>index</th>\n",
              "      <th></th>\n",
              "      <th></th>\n",
              "      <th></th>\n",
              "      <th></th>\n",
              "      <th></th>\n",
              "      <th></th>\n",
              "    </tr>\n",
              "  </thead>\n",
              "  <tbody>\n",
              "    <tr>\n",
              "      <th>0</th>\n",
              "      <td>female</td>\n",
              "      <td>group B</td>\n",
              "      <td>bachelor's degree</td>\n",
              "      <td>standard</td>\n",
              "      <td>none</td>\n",
              "      <td>group1</td>\n",
              "    </tr>\n",
              "    <tr>\n",
              "      <th>1</th>\n",
              "      <td>female</td>\n",
              "      <td>group C</td>\n",
              "      <td>some college</td>\n",
              "      <td>standard</td>\n",
              "      <td>completed</td>\n",
              "      <td>group1</td>\n",
              "    </tr>\n",
              "    <tr>\n",
              "      <th>2</th>\n",
              "      <td>female</td>\n",
              "      <td>group B</td>\n",
              "      <td>master's degree</td>\n",
              "      <td>standard</td>\n",
              "      <td>none</td>\n",
              "      <td>group1</td>\n",
              "    </tr>\n",
              "    <tr>\n",
              "      <th>3</th>\n",
              "      <td>male</td>\n",
              "      <td>group A</td>\n",
              "      <td>associate's degree</td>\n",
              "      <td>free/reduced</td>\n",
              "      <td>none</td>\n",
              "      <td>group1</td>\n",
              "    </tr>\n",
              "    <tr>\n",
              "      <th>4</th>\n",
              "      <td>male</td>\n",
              "      <td>group C</td>\n",
              "      <td>some college</td>\n",
              "      <td>standard</td>\n",
              "      <td>none</td>\n",
              "      <td>group1</td>\n",
              "    </tr>\n",
              "    <tr>\n",
              "      <th>...</th>\n",
              "      <td>...</td>\n",
              "      <td>...</td>\n",
              "      <td>...</td>\n",
              "      <td>...</td>\n",
              "      <td>...</td>\n",
              "      <td>...</td>\n",
              "    </tr>\n",
              "    <tr>\n",
              "      <th>995</th>\n",
              "      <td>female</td>\n",
              "      <td>group E</td>\n",
              "      <td>master's degree</td>\n",
              "      <td>standard</td>\n",
              "      <td>completed</td>\n",
              "      <td>group10</td>\n",
              "    </tr>\n",
              "    <tr>\n",
              "      <th>996</th>\n",
              "      <td>male</td>\n",
              "      <td>group C</td>\n",
              "      <td>high school</td>\n",
              "      <td>free/reduced</td>\n",
              "      <td>none</td>\n",
              "      <td>group10</td>\n",
              "    </tr>\n",
              "    <tr>\n",
              "      <th>997</th>\n",
              "      <td>female</td>\n",
              "      <td>group C</td>\n",
              "      <td>high school</td>\n",
              "      <td>free/reduced</td>\n",
              "      <td>completed</td>\n",
              "      <td>group10</td>\n",
              "    </tr>\n",
              "    <tr>\n",
              "      <th>998</th>\n",
              "      <td>female</td>\n",
              "      <td>group D</td>\n",
              "      <td>some college</td>\n",
              "      <td>standard</td>\n",
              "      <td>completed</td>\n",
              "      <td>group10</td>\n",
              "    </tr>\n",
              "    <tr>\n",
              "      <th>999</th>\n",
              "      <td>female</td>\n",
              "      <td>group D</td>\n",
              "      <td>some college</td>\n",
              "      <td>free/reduced</td>\n",
              "      <td>none</td>\n",
              "      <td>group10</td>\n",
              "    </tr>\n",
              "  </tbody>\n",
              "</table>\n",
              "<p>1000 rows × 6 columns</p>\n",
              "</div>"
            ],
            "text/plain": [
              "       gender race/ethnicity parental level of education         lunch  \\\n",
              "index                                                                    \n",
              "0      female        group B           bachelor's degree      standard   \n",
              "1      female        group C                some college      standard   \n",
              "2      female        group B             master's degree      standard   \n",
              "3        male        group A          associate's degree  free/reduced   \n",
              "4        male        group C                some college      standard   \n",
              "...       ...            ...                         ...           ...   \n",
              "995    female        group E             master's degree      standard   \n",
              "996      male        group C                 high school  free/reduced   \n",
              "997    female        group C                 high school  free/reduced   \n",
              "998    female        group D                some college      standard   \n",
              "999    female        group D                some college  free/reduced   \n",
              "\n",
              "      test preparation course    group  \n",
              "index                                   \n",
              "0                        none   group1  \n",
              "1                   completed   group1  \n",
              "2                        none   group1  \n",
              "3                        none   group1  \n",
              "4                        none   group1  \n",
              "...                       ...      ...  \n",
              "995                 completed  group10  \n",
              "996                      none  group10  \n",
              "997                 completed  group10  \n",
              "998                 completed  group10  \n",
              "999                      none  group10  \n",
              "\n",
              "[1000 rows x 6 columns]"
            ]
          },
          "execution_count": 29,
          "metadata": {},
          "output_type": "execute_result"
        }
      ],
      "source": [
        "df0"
      ]
    },
    {
      "cell_type": "code",
      "execution_count": null,
      "metadata": {
        "id": "uELTc3HPjV-S"
      },
      "outputs": [],
      "source": [
        "df1 = pd.concat([df0_m, df1_m, df2_m, df3_m, df4_m, df5_m, df6_m, df7_m, df8_m, df9_m])"
      ]
    },
    {
      "cell_type": "code",
      "execution_count": null,
      "metadata": {
        "id": "L16JfPz7jV-T",
        "outputId": "aa1307e5-c1ad-4e38-be82-a386b93b001c"
      },
      "outputs": [
        {
          "data": {
            "text/html": [
              "<div>\n",
              "<style scoped>\n",
              "    .dataframe tbody tr th:only-of-type {\n",
              "        vertical-align: middle;\n",
              "    }\n",
              "\n",
              "    .dataframe tbody tr th {\n",
              "        vertical-align: top;\n",
              "    }\n",
              "\n",
              "    .dataframe thead th {\n",
              "        text-align: right;\n",
              "    }\n",
              "</style>\n",
              "<table border=\"1\" class=\"dataframe\">\n",
              "  <thead>\n",
              "    <tr style=\"text-align: right;\">\n",
              "      <th></th>\n",
              "      <th>math score</th>\n",
              "      <th>reading score</th>\n",
              "      <th>writing score</th>\n",
              "    </tr>\n",
              "    <tr>\n",
              "      <th>index</th>\n",
              "      <th></th>\n",
              "      <th></th>\n",
              "      <th></th>\n",
              "    </tr>\n",
              "  </thead>\n",
              "  <tbody>\n",
              "    <tr>\n",
              "      <th>0</th>\n",
              "      <td>72</td>\n",
              "      <td>72</td>\n",
              "      <td>74</td>\n",
              "    </tr>\n",
              "    <tr>\n",
              "      <th>1</th>\n",
              "      <td>69</td>\n",
              "      <td>90</td>\n",
              "      <td>88</td>\n",
              "    </tr>\n",
              "    <tr>\n",
              "      <th>2</th>\n",
              "      <td>90</td>\n",
              "      <td>95</td>\n",
              "      <td>93</td>\n",
              "    </tr>\n",
              "    <tr>\n",
              "      <th>3</th>\n",
              "      <td>47</td>\n",
              "      <td>57</td>\n",
              "      <td>44</td>\n",
              "    </tr>\n",
              "    <tr>\n",
              "      <th>4</th>\n",
              "      <td>76</td>\n",
              "      <td>78</td>\n",
              "      <td>75</td>\n",
              "    </tr>\n",
              "    <tr>\n",
              "      <th>...</th>\n",
              "      <td>...</td>\n",
              "      <td>...</td>\n",
              "      <td>...</td>\n",
              "    </tr>\n",
              "    <tr>\n",
              "      <th>995</th>\n",
              "      <td>88</td>\n",
              "      <td>99</td>\n",
              "      <td>95</td>\n",
              "    </tr>\n",
              "    <tr>\n",
              "      <th>996</th>\n",
              "      <td>62</td>\n",
              "      <td>55</td>\n",
              "      <td>55</td>\n",
              "    </tr>\n",
              "    <tr>\n",
              "      <th>997</th>\n",
              "      <td>59</td>\n",
              "      <td>71</td>\n",
              "      <td>65</td>\n",
              "    </tr>\n",
              "    <tr>\n",
              "      <th>998</th>\n",
              "      <td>68</td>\n",
              "      <td>78</td>\n",
              "      <td>77</td>\n",
              "    </tr>\n",
              "    <tr>\n",
              "      <th>999</th>\n",
              "      <td>77</td>\n",
              "      <td>86</td>\n",
              "      <td>86</td>\n",
              "    </tr>\n",
              "  </tbody>\n",
              "</table>\n",
              "<p>1000 rows × 3 columns</p>\n",
              "</div>"
            ],
            "text/plain": [
              "       math score  reading score  writing score\n",
              "index                                          \n",
              "0              72             72             74\n",
              "1              69             90             88\n",
              "2              90             95             93\n",
              "3              47             57             44\n",
              "4              76             78             75\n",
              "...           ...            ...            ...\n",
              "995            88             99             95\n",
              "996            62             55             55\n",
              "997            59             71             65\n",
              "998            68             78             77\n",
              "999            77             86             86\n",
              "\n",
              "[1000 rows x 3 columns]"
            ]
          },
          "execution_count": 31,
          "metadata": {},
          "output_type": "execute_result"
        }
      ],
      "source": [
        "df1"
      ]
    },
    {
      "cell_type": "code",
      "execution_count": null,
      "metadata": {
        "id": "glcyCUoyjV-T"
      },
      "outputs": [],
      "source": [
        "df = pd.concat([df0, df1], axis=1)"
      ]
    },
    {
      "cell_type": "code",
      "execution_count": null,
      "metadata": {
        "id": "ezyrA39hjV-U",
        "outputId": "ff2c2310-90d9-4792-c012-c55b2dcb448e"
      },
      "outputs": [
        {
          "data": {
            "text/html": [
              "<div>\n",
              "<style scoped>\n",
              "    .dataframe tbody tr th:only-of-type {\n",
              "        vertical-align: middle;\n",
              "    }\n",
              "\n",
              "    .dataframe tbody tr th {\n",
              "        vertical-align: top;\n",
              "    }\n",
              "\n",
              "    .dataframe thead th {\n",
              "        text-align: right;\n",
              "    }\n",
              "</style>\n",
              "<table border=\"1\" class=\"dataframe\">\n",
              "  <thead>\n",
              "    <tr style=\"text-align: right;\">\n",
              "      <th></th>\n",
              "      <th>gender</th>\n",
              "      <th>race/ethnicity</th>\n",
              "      <th>parental level of education</th>\n",
              "      <th>lunch</th>\n",
              "      <th>test preparation course</th>\n",
              "      <th>group</th>\n",
              "      <th>math score</th>\n",
              "      <th>reading score</th>\n",
              "      <th>writing score</th>\n",
              "    </tr>\n",
              "    <tr>\n",
              "      <th>index</th>\n",
              "      <th></th>\n",
              "      <th></th>\n",
              "      <th></th>\n",
              "      <th></th>\n",
              "      <th></th>\n",
              "      <th></th>\n",
              "      <th></th>\n",
              "      <th></th>\n",
              "      <th></th>\n",
              "    </tr>\n",
              "  </thead>\n",
              "  <tbody>\n",
              "    <tr>\n",
              "      <th>0</th>\n",
              "      <td>female</td>\n",
              "      <td>group B</td>\n",
              "      <td>bachelor's degree</td>\n",
              "      <td>standard</td>\n",
              "      <td>none</td>\n",
              "      <td>group1</td>\n",
              "      <td>72</td>\n",
              "      <td>72</td>\n",
              "      <td>74</td>\n",
              "    </tr>\n",
              "    <tr>\n",
              "      <th>1</th>\n",
              "      <td>female</td>\n",
              "      <td>group C</td>\n",
              "      <td>some college</td>\n",
              "      <td>standard</td>\n",
              "      <td>completed</td>\n",
              "      <td>group1</td>\n",
              "      <td>69</td>\n",
              "      <td>90</td>\n",
              "      <td>88</td>\n",
              "    </tr>\n",
              "    <tr>\n",
              "      <th>2</th>\n",
              "      <td>female</td>\n",
              "      <td>group B</td>\n",
              "      <td>master's degree</td>\n",
              "      <td>standard</td>\n",
              "      <td>none</td>\n",
              "      <td>group1</td>\n",
              "      <td>90</td>\n",
              "      <td>95</td>\n",
              "      <td>93</td>\n",
              "    </tr>\n",
              "    <tr>\n",
              "      <th>3</th>\n",
              "      <td>male</td>\n",
              "      <td>group A</td>\n",
              "      <td>associate's degree</td>\n",
              "      <td>free/reduced</td>\n",
              "      <td>none</td>\n",
              "      <td>group1</td>\n",
              "      <td>47</td>\n",
              "      <td>57</td>\n",
              "      <td>44</td>\n",
              "    </tr>\n",
              "    <tr>\n",
              "      <th>4</th>\n",
              "      <td>male</td>\n",
              "      <td>group C</td>\n",
              "      <td>some college</td>\n",
              "      <td>standard</td>\n",
              "      <td>none</td>\n",
              "      <td>group1</td>\n",
              "      <td>76</td>\n",
              "      <td>78</td>\n",
              "      <td>75</td>\n",
              "    </tr>\n",
              "  </tbody>\n",
              "</table>\n",
              "</div>"
            ],
            "text/plain": [
              "       gender race/ethnicity parental level of education         lunch  \\\n",
              "index                                                                    \n",
              "0      female        group B           bachelor's degree      standard   \n",
              "1      female        group C                some college      standard   \n",
              "2      female        group B             master's degree      standard   \n",
              "3        male        group A          associate's degree  free/reduced   \n",
              "4        male        group C                some college      standard   \n",
              "\n",
              "      test preparation course   group  math score  reading score  \\\n",
              "index                                                              \n",
              "0                        none  group1          72             72   \n",
              "1                   completed  group1          69             90   \n",
              "2                        none  group1          90             95   \n",
              "3                        none  group1          47             57   \n",
              "4                        none  group1          76             78   \n",
              "\n",
              "       writing score  \n",
              "index                 \n",
              "0                 74  \n",
              "1                 88  \n",
              "2                 93  \n",
              "3                 44  \n",
              "4                 75  "
            ]
          },
          "execution_count": 33,
          "metadata": {},
          "output_type": "execute_result"
        }
      ],
      "source": [
        "df.head()"
      ]
    },
    {
      "cell_type": "markdown",
      "metadata": {
        "_uuid": "8524af4cbd2f7b7810e8a3095a74c9fe1df7eafa",
        "id": "uhW2xfxAjV-V"
      },
      "source": [
        "#### Задание 2. Удалите столбец index у полученной таблицы. Напечатайте первые 10 строк таблицы."
      ]
    },
    {
      "cell_type": "code",
      "execution_count": null,
      "metadata": {
        "_uuid": "fe62eee87b9b94ab923f57b55eaf0554612aa9e9",
        "id": "Ubv_bX5rjV-V"
      },
      "outputs": [],
      "source": [
        "df = df.reset_index(drop=True)"
      ]
    },
    {
      "cell_type": "code",
      "execution_count": null,
      "metadata": {
        "id": "bk29tx39jV-W",
        "outputId": "84f98b0c-48f3-4434-adf7-51ebf580aff7"
      },
      "outputs": [
        {
          "data": {
            "text/html": [
              "<div>\n",
              "<style scoped>\n",
              "    .dataframe tbody tr th:only-of-type {\n",
              "        vertical-align: middle;\n",
              "    }\n",
              "\n",
              "    .dataframe tbody tr th {\n",
              "        vertical-align: top;\n",
              "    }\n",
              "\n",
              "    .dataframe thead th {\n",
              "        text-align: right;\n",
              "    }\n",
              "</style>\n",
              "<table border=\"1\" class=\"dataframe\">\n",
              "  <thead>\n",
              "    <tr style=\"text-align: right;\">\n",
              "      <th></th>\n",
              "      <th>gender</th>\n",
              "      <th>race/ethnicity</th>\n",
              "      <th>parental level of education</th>\n",
              "      <th>lunch</th>\n",
              "      <th>test preparation course</th>\n",
              "      <th>group</th>\n",
              "      <th>math score</th>\n",
              "      <th>reading score</th>\n",
              "      <th>writing score</th>\n",
              "    </tr>\n",
              "  </thead>\n",
              "  <tbody>\n",
              "    <tr>\n",
              "      <th>0</th>\n",
              "      <td>female</td>\n",
              "      <td>group B</td>\n",
              "      <td>bachelor's degree</td>\n",
              "      <td>standard</td>\n",
              "      <td>none</td>\n",
              "      <td>group1</td>\n",
              "      <td>72</td>\n",
              "      <td>72</td>\n",
              "      <td>74</td>\n",
              "    </tr>\n",
              "    <tr>\n",
              "      <th>1</th>\n",
              "      <td>female</td>\n",
              "      <td>group C</td>\n",
              "      <td>some college</td>\n",
              "      <td>standard</td>\n",
              "      <td>completed</td>\n",
              "      <td>group1</td>\n",
              "      <td>69</td>\n",
              "      <td>90</td>\n",
              "      <td>88</td>\n",
              "    </tr>\n",
              "    <tr>\n",
              "      <th>2</th>\n",
              "      <td>female</td>\n",
              "      <td>group B</td>\n",
              "      <td>master's degree</td>\n",
              "      <td>standard</td>\n",
              "      <td>none</td>\n",
              "      <td>group1</td>\n",
              "      <td>90</td>\n",
              "      <td>95</td>\n",
              "      <td>93</td>\n",
              "    </tr>\n",
              "    <tr>\n",
              "      <th>3</th>\n",
              "      <td>male</td>\n",
              "      <td>group A</td>\n",
              "      <td>associate's degree</td>\n",
              "      <td>free/reduced</td>\n",
              "      <td>none</td>\n",
              "      <td>group1</td>\n",
              "      <td>47</td>\n",
              "      <td>57</td>\n",
              "      <td>44</td>\n",
              "    </tr>\n",
              "    <tr>\n",
              "      <th>4</th>\n",
              "      <td>male</td>\n",
              "      <td>group C</td>\n",
              "      <td>some college</td>\n",
              "      <td>standard</td>\n",
              "      <td>none</td>\n",
              "      <td>group1</td>\n",
              "      <td>76</td>\n",
              "      <td>78</td>\n",
              "      <td>75</td>\n",
              "    </tr>\n",
              "    <tr>\n",
              "      <th>5</th>\n",
              "      <td>female</td>\n",
              "      <td>group B</td>\n",
              "      <td>associate's degree</td>\n",
              "      <td>standard</td>\n",
              "      <td>none</td>\n",
              "      <td>group1</td>\n",
              "      <td>71</td>\n",
              "      <td>83</td>\n",
              "      <td>78</td>\n",
              "    </tr>\n",
              "    <tr>\n",
              "      <th>6</th>\n",
              "      <td>female</td>\n",
              "      <td>group B</td>\n",
              "      <td>some college</td>\n",
              "      <td>standard</td>\n",
              "      <td>completed</td>\n",
              "      <td>group1</td>\n",
              "      <td>88</td>\n",
              "      <td>95</td>\n",
              "      <td>92</td>\n",
              "    </tr>\n",
              "    <tr>\n",
              "      <th>7</th>\n",
              "      <td>male</td>\n",
              "      <td>group B</td>\n",
              "      <td>some college</td>\n",
              "      <td>free/reduced</td>\n",
              "      <td>none</td>\n",
              "      <td>group1</td>\n",
              "      <td>40</td>\n",
              "      <td>43</td>\n",
              "      <td>39</td>\n",
              "    </tr>\n",
              "    <tr>\n",
              "      <th>8</th>\n",
              "      <td>male</td>\n",
              "      <td>group D</td>\n",
              "      <td>high school</td>\n",
              "      <td>free/reduced</td>\n",
              "      <td>completed</td>\n",
              "      <td>group1</td>\n",
              "      <td>64</td>\n",
              "      <td>64</td>\n",
              "      <td>67</td>\n",
              "    </tr>\n",
              "    <tr>\n",
              "      <th>9</th>\n",
              "      <td>female</td>\n",
              "      <td>group B</td>\n",
              "      <td>high school</td>\n",
              "      <td>free/reduced</td>\n",
              "      <td>none</td>\n",
              "      <td>group1</td>\n",
              "      <td>38</td>\n",
              "      <td>60</td>\n",
              "      <td>50</td>\n",
              "    </tr>\n",
              "  </tbody>\n",
              "</table>\n",
              "</div>"
            ],
            "text/plain": [
              "   gender race/ethnicity parental level of education         lunch  \\\n",
              "0  female        group B           bachelor's degree      standard   \n",
              "1  female        group C                some college      standard   \n",
              "2  female        group B             master's degree      standard   \n",
              "3    male        group A          associate's degree  free/reduced   \n",
              "4    male        group C                some college      standard   \n",
              "5  female        group B          associate's degree      standard   \n",
              "6  female        group B                some college      standard   \n",
              "7    male        group B                some college  free/reduced   \n",
              "8    male        group D                 high school  free/reduced   \n",
              "9  female        group B                 high school  free/reduced   \n",
              "\n",
              "  test preparation course   group  math score  reading score  writing score  \n",
              "0                    none  group1          72             72             74  \n",
              "1               completed  group1          69             90             88  \n",
              "2                    none  group1          90             95             93  \n",
              "3                    none  group1          47             57             44  \n",
              "4                    none  group1          76             78             75  \n",
              "5                    none  group1          71             83             78  \n",
              "6               completed  group1          88             95             92  \n",
              "7                    none  group1          40             43             39  \n",
              "8               completed  group1          64             64             67  \n",
              "9                    none  group1          38             60             50  "
            ]
          },
          "execution_count": 41,
          "metadata": {},
          "output_type": "execute_result"
        }
      ],
      "source": [
        "df.head(10)"
      ]
    },
    {
      "cell_type": "markdown",
      "metadata": {
        "_uuid": "5fcd622942b7ecfc318934c6a245d3bb3bf01e84",
        "id": "80gHenf5jV-W"
      },
      "source": [
        "#### Задание 3. Выведите на экран размеры полученной таблицы"
      ]
    },
    {
      "cell_type": "code",
      "execution_count": null,
      "metadata": {
        "_uuid": "16281cd7b4e941ebed8ca2e1b42f62f55d838684",
        "id": "IViDf5bojV-W",
        "outputId": "05a995a0-7337-4494-a838-57e4ac6a24be"
      },
      "outputs": [
        {
          "data": {
            "text/plain": [
              "(1000, 9)"
            ]
          },
          "execution_count": 43,
          "metadata": {},
          "output_type": "execute_result"
        }
      ],
      "source": [
        "df.shape"
      ]
    },
    {
      "cell_type": "markdown",
      "metadata": {
        "_uuid": "fe8e3d58d29ca25dbbcf001392377643e6ff9a36",
        "id": "fVeP3MQCjV-X"
      },
      "source": [
        "#### Задание 4. Выведите на экран статистические характеристики числовых столбцов таблицы (минимум, максимум, среднее значение, стандартное отклонение)"
      ]
    },
    {
      "cell_type": "code",
      "execution_count": null,
      "metadata": {
        "_uuid": "e3d4bb80d2c4251fe517c24fcf08c5ff2d67b8aa",
        "id": "i8KMy1kFjV-X",
        "outputId": "190062d0-f18f-4232-f4b1-e0f84137bc06"
      },
      "outputs": [
        {
          "data": {
            "text/plain": [
              "(0, 100, 66.089, 229.91899799799847)"
            ]
          },
          "execution_count": 46,
          "metadata": {},
          "output_type": "execute_result"
        }
      ],
      "source": [
        "df[\"math score\"].min(), df[\"math score\"].max(),  df[\"math score\"].mean(),  df[\"math score\"].var()"
      ]
    },
    {
      "cell_type": "code",
      "execution_count": null,
      "metadata": {
        "id": "V-7HMVhdjV-X",
        "outputId": "4cb4953a-609f-440d-e829-f96109324fd1"
      },
      "outputs": [
        {
          "data": {
            "text/plain": [
              "(17, 100, 69.169, 213.1656046046047)"
            ]
          },
          "execution_count": 47,
          "metadata": {},
          "output_type": "execute_result"
        }
      ],
      "source": [
        "df[\"reading score\"].min(), df[\"reading score\"].max(),  df[\"reading score\"].mean(),  df[\"reading score\"].var()"
      ]
    },
    {
      "cell_type": "code",
      "execution_count": null,
      "metadata": {
        "id": "DZB7BsXUjV-X",
        "outputId": "aeb0164e-1ad4-4717-8af2-ffa5c45f1a63"
      },
      "outputs": [
        {
          "data": {
            "text/plain": [
              "(10, 100, 68.054, 230.90799199199168)"
            ]
          },
          "execution_count": 48,
          "metadata": {},
          "output_type": "execute_result"
        }
      ],
      "source": [
        "df[\"writing score\"].min(), df[\"writing score\"].max(),  df[\"writing score\"].mean(),  df[\"writing score\"].var()"
      ]
    },
    {
      "cell_type": "markdown",
      "metadata": {
        "_uuid": "b26b7de83485ecb3b8a0a7865a596e24527c7b2f",
        "id": "vNcyoDnNjV-Y"
      },
      "source": [
        "#### Задание 5. Проверьте, есть ли в таблице пропущенные значения"
      ]
    },
    {
      "cell_type": "code",
      "execution_count": null,
      "metadata": {
        "_uuid": "4eac3f8f83d07c6e58ad1576fe0e773f37034a2f",
        "id": "PM6evoYajV-Y",
        "outputId": "e4d3d0fd-76c3-4b18-8733-24c446d9c754"
      },
      "outputs": [
        {
          "data": {
            "text/plain": [
              "False"
            ]
          },
          "execution_count": 53,
          "metadata": {},
          "output_type": "execute_result"
        }
      ],
      "source": [
        "df.isna().any().any()"
      ]
    },
    {
      "cell_type": "markdown",
      "metadata": {
        "id": "jCbTk6HEjV-Y"
      },
      "source": [
        "#### Задание 6. Выведите на экран средние баллы студентов по каждому предмету (math, reading, writing)"
      ]
    },
    {
      "cell_type": "code",
      "execution_count": null,
      "metadata": {
        "id": "iZyWk22VjV-Y",
        "outputId": "62e5b491-cda9-49ae-e113-68a43472c4df"
      },
      "outputs": [
        {
          "data": {
            "text/plain": [
              "66.089"
            ]
          },
          "execution_count": 54,
          "metadata": {},
          "output_type": "execute_result"
        }
      ],
      "source": [
        "df[\"math score\"].mean()"
      ]
    },
    {
      "cell_type": "code",
      "execution_count": null,
      "metadata": {
        "id": "CPKP3bocjV-Z",
        "outputId": "7d1b6628-0bb0-4d6b-a1dd-15deaf7ba366"
      },
      "outputs": [
        {
          "data": {
            "text/plain": [
              "69.169"
            ]
          },
          "execution_count": 55,
          "metadata": {},
          "output_type": "execute_result"
        }
      ],
      "source": [
        "df[\"reading score\"].mean()"
      ]
    },
    {
      "cell_type": "code",
      "execution_count": null,
      "metadata": {
        "id": "yrBgQLrjjV-Z",
        "outputId": "51b2fb21-e024-4743-a5e9-1b374b0f362e"
      },
      "outputs": [
        {
          "data": {
            "text/plain": [
              "68.054"
            ]
          },
          "execution_count": 56,
          "metadata": {},
          "output_type": "execute_result"
        }
      ],
      "source": [
        "df[\"writing score\"].mean()"
      ]
    },
    {
      "cell_type": "markdown",
      "metadata": {
        "id": "JBrcWtSYjV-Z"
      },
      "source": [
        "**Задание 7. Как зависят оценки от того, проходил ли студент курс для подготовки к сдаче экзамена (test preparation course)? Выведите на экран для каждого предмета в отдельности средний балл студентов, проходивших курс для подготовки к экзамену и не проходивших курс.**"
      ]
    },
    {
      "cell_type": "code",
      "execution_count": null,
      "metadata": {
        "id": "EVtnRK4pjV-Z",
        "outputId": "8add832c-5db7-48c6-b212-b80c94e95538"
      },
      "outputs": [
        {
          "data": {
            "text/plain": [
              "69.69553072625699"
            ]
          },
          "execution_count": 69,
          "metadata": {},
          "output_type": "execute_result"
        }
      ],
      "source": [
        "df.loc[df[\"test preparation course\"]==\"completed\", \"math score\"].mean()"
      ]
    },
    {
      "cell_type": "code",
      "execution_count": null,
      "metadata": {
        "id": "WdngrDvjjV-a",
        "outputId": "74ed2017-53c2-4893-8f49-b034de443311"
      },
      "outputs": [
        {
          "data": {
            "text/plain": [
              "64.0778816199377"
            ]
          },
          "execution_count": 70,
          "metadata": {},
          "output_type": "execute_result"
        }
      ],
      "source": [
        "df.loc[df[\"test preparation course\"]==\"none\", \"math score\"].mean()"
      ]
    },
    {
      "cell_type": "code",
      "execution_count": null,
      "metadata": {
        "id": "1M5TR-jtjV-b",
        "outputId": "d3641197-3a30-4748-aa2d-634d38953559"
      },
      "outputs": [
        {
          "data": {
            "text/plain": [
              "73.89385474860335"
            ]
          },
          "execution_count": 71,
          "metadata": {},
          "output_type": "execute_result"
        }
      ],
      "source": [
        "df.loc[df[\"test preparation course\"]==\"completed\", \"reading score\"].mean()"
      ]
    },
    {
      "cell_type": "code",
      "execution_count": null,
      "metadata": {
        "id": "dpczxf9OjV-c",
        "outputId": "f28c6cfb-cf64-4433-d0c1-6f4b6341f513"
      },
      "outputs": [
        {
          "data": {
            "text/plain": [
              "66.53426791277259"
            ]
          },
          "execution_count": 72,
          "metadata": {},
          "output_type": "execute_result"
        }
      ],
      "source": [
        "df.loc[df[\"test preparation course\"]==\"none\", \"reading score\"].mean()"
      ]
    },
    {
      "cell_type": "code",
      "execution_count": null,
      "metadata": {
        "id": "yq9OYIIfjV-c",
        "outputId": "a58db45f-0276-4bb9-d7c1-d2a148b8830e"
      },
      "outputs": [
        {
          "data": {
            "text/plain": [
              "74.41899441340782"
            ]
          },
          "execution_count": 73,
          "metadata": {},
          "output_type": "execute_result"
        }
      ],
      "source": [
        "df.loc[df[\"test preparation course\"]==\"completed\", \"writing score\"].mean()"
      ]
    },
    {
      "cell_type": "code",
      "execution_count": null,
      "metadata": {
        "id": "jzPTUWZljV-d",
        "outputId": "ca76d2d6-130e-4120-f955-e7f96a67341a"
      },
      "outputs": [
        {
          "data": {
            "text/plain": [
              "64.50467289719626"
            ]
          },
          "execution_count": 74,
          "metadata": {},
          "output_type": "execute_result"
        }
      ],
      "source": [
        "df.loc[df[\"test preparation course\"]==\"none\", \"writing score\"].mean()"
      ]
    },
    {
      "cell_type": "markdown",
      "metadata": {
        "id": "D70MI_97jV-e"
      },
      "source": [
        "**Задание 8. Выведите на экран все различные значения из столбца lunch.**"
      ]
    },
    {
      "cell_type": "code",
      "execution_count": null,
      "metadata": {
        "id": "uOQO5q7IjV-g",
        "outputId": "92b03b52-29f3-426c-8431-6f5cdf7af7ad"
      },
      "outputs": [
        {
          "data": {
            "text/plain": [
              "array(['standard', 'free/reduced'], dtype=object)"
            ]
          },
          "execution_count": 80,
          "metadata": {},
          "output_type": "execute_result"
        }
      ],
      "source": [
        "df[\"lunch\"].unique()"
      ]
    },
    {
      "cell_type": "markdown",
      "metadata": {
        "id": "EOu5fINPjV-z"
      },
      "source": [
        "**Задание 9. Переименуйте колонку \"parental level of education\" в \"education\", а \"test preparation course\" в \"test preparation\" с помощью метода pandas rename**\n",
        "https://pandas.pydata.org/pandas-docs/stable/reference/api/pandas.DataFrame.rename.html"
      ]
    },
    {
      "cell_type": "code",
      "execution_count": null,
      "metadata": {
        "id": "Nu6aLBOWjV-0"
      },
      "outputs": [],
      "source": [
        "df = df.rename(columns={\"parental level of education\": \"education\", \"test preparation course\": \"test preparation\"})"
      ]
    },
    {
      "cell_type": "code",
      "execution_count": null,
      "metadata": {
        "id": "mN2Ya9pvjV-0",
        "outputId": "0bddc68d-e8d8-4ecd-937a-fc827534ded9"
      },
      "outputs": [
        {
          "data": {
            "text/html": [
              "<div>\n",
              "<style scoped>\n",
              "    .dataframe tbody tr th:only-of-type {\n",
              "        vertical-align: middle;\n",
              "    }\n",
              "\n",
              "    .dataframe tbody tr th {\n",
              "        vertical-align: top;\n",
              "    }\n",
              "\n",
              "    .dataframe thead th {\n",
              "        text-align: right;\n",
              "    }\n",
              "</style>\n",
              "<table border=\"1\" class=\"dataframe\">\n",
              "  <thead>\n",
              "    <tr style=\"text-align: right;\">\n",
              "      <th></th>\n",
              "      <th>gender</th>\n",
              "      <th>race/ethnicity</th>\n",
              "      <th>education</th>\n",
              "      <th>lunch</th>\n",
              "      <th>test preparation</th>\n",
              "      <th>group</th>\n",
              "      <th>math score</th>\n",
              "      <th>reading score</th>\n",
              "      <th>writing score</th>\n",
              "    </tr>\n",
              "  </thead>\n",
              "  <tbody>\n",
              "    <tr>\n",
              "      <th>0</th>\n",
              "      <td>female</td>\n",
              "      <td>group B</td>\n",
              "      <td>bachelor's degree</td>\n",
              "      <td>standard</td>\n",
              "      <td>none</td>\n",
              "      <td>group1</td>\n",
              "      <td>72</td>\n",
              "      <td>72</td>\n",
              "      <td>74</td>\n",
              "    </tr>\n",
              "    <tr>\n",
              "      <th>1</th>\n",
              "      <td>female</td>\n",
              "      <td>group C</td>\n",
              "      <td>some college</td>\n",
              "      <td>standard</td>\n",
              "      <td>completed</td>\n",
              "      <td>group1</td>\n",
              "      <td>69</td>\n",
              "      <td>90</td>\n",
              "      <td>88</td>\n",
              "    </tr>\n",
              "    <tr>\n",
              "      <th>2</th>\n",
              "      <td>female</td>\n",
              "      <td>group B</td>\n",
              "      <td>master's degree</td>\n",
              "      <td>standard</td>\n",
              "      <td>none</td>\n",
              "      <td>group1</td>\n",
              "      <td>90</td>\n",
              "      <td>95</td>\n",
              "      <td>93</td>\n",
              "    </tr>\n",
              "    <tr>\n",
              "      <th>3</th>\n",
              "      <td>male</td>\n",
              "      <td>group A</td>\n",
              "      <td>associate's degree</td>\n",
              "      <td>free/reduced</td>\n",
              "      <td>none</td>\n",
              "      <td>group1</td>\n",
              "      <td>47</td>\n",
              "      <td>57</td>\n",
              "      <td>44</td>\n",
              "    </tr>\n",
              "    <tr>\n",
              "      <th>4</th>\n",
              "      <td>male</td>\n",
              "      <td>group C</td>\n",
              "      <td>some college</td>\n",
              "      <td>standard</td>\n",
              "      <td>none</td>\n",
              "      <td>group1</td>\n",
              "      <td>76</td>\n",
              "      <td>78</td>\n",
              "      <td>75</td>\n",
              "    </tr>\n",
              "    <tr>\n",
              "      <th>...</th>\n",
              "      <td>...</td>\n",
              "      <td>...</td>\n",
              "      <td>...</td>\n",
              "      <td>...</td>\n",
              "      <td>...</td>\n",
              "      <td>...</td>\n",
              "      <td>...</td>\n",
              "      <td>...</td>\n",
              "      <td>...</td>\n",
              "    </tr>\n",
              "    <tr>\n",
              "      <th>995</th>\n",
              "      <td>female</td>\n",
              "      <td>group E</td>\n",
              "      <td>master's degree</td>\n",
              "      <td>standard</td>\n",
              "      <td>completed</td>\n",
              "      <td>group10</td>\n",
              "      <td>88</td>\n",
              "      <td>99</td>\n",
              "      <td>95</td>\n",
              "    </tr>\n",
              "    <tr>\n",
              "      <th>996</th>\n",
              "      <td>male</td>\n",
              "      <td>group C</td>\n",
              "      <td>high school</td>\n",
              "      <td>free/reduced</td>\n",
              "      <td>none</td>\n",
              "      <td>group10</td>\n",
              "      <td>62</td>\n",
              "      <td>55</td>\n",
              "      <td>55</td>\n",
              "    </tr>\n",
              "    <tr>\n",
              "      <th>997</th>\n",
              "      <td>female</td>\n",
              "      <td>group C</td>\n",
              "      <td>high school</td>\n",
              "      <td>free/reduced</td>\n",
              "      <td>completed</td>\n",
              "      <td>group10</td>\n",
              "      <td>59</td>\n",
              "      <td>71</td>\n",
              "      <td>65</td>\n",
              "    </tr>\n",
              "    <tr>\n",
              "      <th>998</th>\n",
              "      <td>female</td>\n",
              "      <td>group D</td>\n",
              "      <td>some college</td>\n",
              "      <td>standard</td>\n",
              "      <td>completed</td>\n",
              "      <td>group10</td>\n",
              "      <td>68</td>\n",
              "      <td>78</td>\n",
              "      <td>77</td>\n",
              "    </tr>\n",
              "    <tr>\n",
              "      <th>999</th>\n",
              "      <td>female</td>\n",
              "      <td>group D</td>\n",
              "      <td>some college</td>\n",
              "      <td>free/reduced</td>\n",
              "      <td>none</td>\n",
              "      <td>group10</td>\n",
              "      <td>77</td>\n",
              "      <td>86</td>\n",
              "      <td>86</td>\n",
              "    </tr>\n",
              "  </tbody>\n",
              "</table>\n",
              "<p>1000 rows × 9 columns</p>\n",
              "</div>"
            ],
            "text/plain": [
              "     gender race/ethnicity           education         lunch test preparation  \\\n",
              "0    female        group B   bachelor's degree      standard             none   \n",
              "1    female        group C        some college      standard        completed   \n",
              "2    female        group B     master's degree      standard             none   \n",
              "3      male        group A  associate's degree  free/reduced             none   \n",
              "4      male        group C        some college      standard             none   \n",
              "..      ...            ...                 ...           ...              ...   \n",
              "995  female        group E     master's degree      standard        completed   \n",
              "996    male        group C         high school  free/reduced             none   \n",
              "997  female        group C         high school  free/reduced        completed   \n",
              "998  female        group D        some college      standard        completed   \n",
              "999  female        group D        some college  free/reduced             none   \n",
              "\n",
              "       group  math score  reading score  writing score  \n",
              "0     group1          72             72             74  \n",
              "1     group1          69             90             88  \n",
              "2     group1          90             95             93  \n",
              "3     group1          47             57             44  \n",
              "4     group1          76             78             75  \n",
              "..       ...         ...            ...            ...  \n",
              "995  group10          88             99             95  \n",
              "996  group10          62             55             55  \n",
              "997  group10          59             71             65  \n",
              "998  group10          68             78             77  \n",
              "999  group10          77             86             86  \n",
              "\n",
              "[1000 rows x 9 columns]"
            ]
          },
          "execution_count": 85,
          "metadata": {},
          "output_type": "execute_result"
        }
      ],
      "source": [
        "df"
      ]
    },
    {
      "cell_type": "markdown",
      "metadata": {
        "id": "9Nqk0bdwjV-1"
      },
      "source": [
        "**Зафиксируем минимальный балл для сдачи экзамена**"
      ]
    },
    {
      "cell_type": "code",
      "execution_count": null,
      "metadata": {
        "id": "ys4c3iHljV-2"
      },
      "outputs": [],
      "source": [
        "passmark = 50"
      ]
    },
    {
      "cell_type": "markdown",
      "metadata": {
        "id": "Zo4j3RFqjV-2"
      },
      "source": [
        "**Задание 10. Ответьте на вопросы:**\n",
        "    * Какая доля студентов сдала экзамен по математике (passmark >= 50)?\n",
        "    * Какая доля студентов, проходивших курс подготовки к экзамену, сдала экзамен по математике?\n",
        "    * Какая доля женщин, не проходивших курс подготовки к экзамену, не сдала экзамен по математике?"
      ]
    },
    {
      "cell_type": "code",
      "execution_count": null,
      "metadata": {
        "id": "c_LQlSAqjV-2",
        "outputId": "70b6fe59-867e-480c-ab26-80d9afca44fc"
      },
      "outputs": [
        {
          "data": {
            "text/plain": [
              "0.865"
            ]
          },
          "execution_count": 90,
          "metadata": {},
          "output_type": "execute_result"
        }
      ],
      "source": [
        "len(df.loc[df[\"math score\"]>=50, \"math score\"])/len(df)"
      ]
    },
    {
      "cell_type": "code",
      "execution_count": null,
      "metadata": {
        "id": "UpkeItI4jV-3",
        "outputId": "291c208a-fb50-4e0d-bb5a-fc05d6352a8d"
      },
      "outputs": [
        {
          "data": {
            "text/plain": [
              "0.33"
            ]
          },
          "execution_count": 98,
          "metadata": {},
          "output_type": "execute_result"
        }
      ],
      "source": [
        "len(df.loc[(df[\"math score\"]>=50) & (df[\"test preparation\"]==\"completed\"), \"math score\"])/len(df)"
      ]
    },
    {
      "cell_type": "code",
      "execution_count": null,
      "metadata": {
        "id": "nRnF4BJMjV-3",
        "outputId": "1b0b259b-8213-42a5-ff23-f8f70d71a027"
      },
      "outputs": [
        {
          "data": {
            "text/plain": [
              "0.07"
            ]
          },
          "execution_count": 99,
          "metadata": {},
          "output_type": "execute_result"
        }
      ],
      "source": [
        "len(df.loc[(df[\"math score\"]<50) & (df[\"test preparation\"]==\"none\") & (df[\"gender\"]==\"female\"), \"math score\"])/len(df)"
      ]
    },
    {
      "cell_type": "markdown",
      "metadata": {
        "id": "abQM974SjV-4"
      },
      "source": [
        "**Задание 11. С помощью groupby выполните задания ниже. Также выведите время выполнения каждого из заданий.**\n",
        "    * Для каждой этнической группы выведите средний балл за экзамен по чтению\n",
        "    * Для каждого уровня образования выведите минимальный балл за экзамен по письму"
      ]
    },
    {
      "cell_type": "code",
      "execution_count": null,
      "metadata": {
        "id": "ww3iCcWvjV-4"
      },
      "outputs": [],
      "source": [
        "gr1 = df.groupby(by=\"race/ethnicity\")"
      ]
    },
    {
      "cell_type": "code",
      "execution_count": null,
      "metadata": {
        "id": "FAzih4Z7jV-4",
        "outputId": "fa917f09-8b22-4680-9069-c5349b5241d2"
      },
      "outputs": [
        {
          "data": {
            "text/plain": [
              "race/ethnicity\n",
              "group A    64.674157\n",
              "group B    67.352632\n",
              "group C    69.103448\n",
              "group D    70.030534\n",
              "group E    73.028571\n",
              "Name: reading score, dtype: float64"
            ]
          },
          "execution_count": 105,
          "metadata": {},
          "output_type": "execute_result"
        }
      ],
      "source": [
        "gr1[\"reading score\"].mean()"
      ]
    },
    {
      "cell_type": "code",
      "execution_count": null,
      "metadata": {
        "id": "zJUcvnnWjV-5",
        "outputId": "a4e55095-bdf5-44ed-844c-349dd9c0be1e"
      },
      "outputs": [
        {
          "name": "stdout",
          "output_type": "stream",
          "text": [
            "0.003000020980834961\n"
          ]
        }
      ],
      "source": [
        "import time\n",
        "\n",
        "start = time.time()\n",
        "\n",
        "gr1 = df.groupby(by=\"race/ethnicity\")\n",
        "gr1[\"reading score\"].mean()\n",
        "\n",
        "end = time.time() - start\n",
        "\n",
        "print(end)"
      ]
    },
    {
      "cell_type": "code",
      "execution_count": null,
      "metadata": {
        "id": "iQEoRSPajV-5"
      },
      "outputs": [],
      "source": [
        "gr2 = df.groupby(by=\"education\")"
      ]
    },
    {
      "cell_type": "code",
      "execution_count": null,
      "metadata": {
        "id": "E6nVfXVLjV-6",
        "outputId": "b599c0b3-0623-486f-de1d-e5c38cb34291"
      },
      "outputs": [
        {
          "data": {
            "text/plain": [
              "education\n",
              "associate's degree    35\n",
              "bachelor's degree     38\n",
              "high school           15\n",
              "master's degree       46\n",
              "some college          19\n",
              "some high school      10\n",
              "Name: writing score, dtype: int64"
            ]
          },
          "execution_count": 109,
          "metadata": {},
          "output_type": "execute_result"
        }
      ],
      "source": [
        "gr2[\"writing score\"].min()"
      ]
    },
    {
      "cell_type": "code",
      "execution_count": null,
      "metadata": {
        "id": "_T4qcuNljV-7",
        "outputId": "10f8f5e1-5208-4fdb-80a2-1b0707e90783"
      },
      "outputs": [
        {
          "name": "stdout",
          "output_type": "stream",
          "text": [
            "0.0030012130737304688\n"
          ]
        }
      ],
      "source": [
        "\n",
        "start = time.time()\n",
        "\n",
        "gr2 = df.groupby(by=\"education\")\n",
        "gr2[\"writing score\"].min()\n",
        "\n",
        "end = time.time() - start\n",
        "\n",
        "print(end)"
      ]
    },
    {
      "cell_type": "markdown",
      "metadata": {
        "id": "W8ywqg49jV-8"
      },
      "source": [
        "**Задание 12. Выполните задание 11 с помощью циклов. Сравните время выполнения.**"
      ]
    },
    {
      "cell_type": "code",
      "execution_count": null,
      "metadata": {
        "id": "ZXHShulIjV-9",
        "outputId": "96fb793a-ae12-4d1e-f73e-9de5c58c04ce"
      },
      "outputs": [
        {
          "name": "stdout",
          "output_type": "stream",
          "text": [
            "64.67415730337079\n",
            "67.35263157894737\n",
            "69.10344827586206\n",
            "70.03053435114504\n",
            "73.02857142857142\n",
            "0.031002044677734375\n"
          ]
        }
      ],
      "source": [
        "start = time.time()\n",
        "\n",
        "score_A = 0\n",
        "score_B = 0\n",
        "score_C = 0\n",
        "score_D = 0\n",
        "score_E = 0\n",
        "col_A = 0\n",
        "col_B = 0\n",
        "col_C = 0\n",
        "col_D = 0\n",
        "col_E = 0\n",
        "for i in range(len(df)):\n",
        "    if df[\"race/ethnicity\"][i]==\"group A\":\n",
        "        score_A += df[\"reading score\"][i]\n",
        "        col_A +=1\n",
        "    elif df[\"race/ethnicity\"][i]==\"group B\":\n",
        "        score_B +=df[\"reading score\"][i]\n",
        "        col_B+=1\n",
        "    elif df[\"race/ethnicity\"][i]==\"group C\":\n",
        "        score_C+= df[\"reading score\"][i]\n",
        "        col_C+=1\n",
        "    elif df[\"race/ethnicity\"][i]==\"group D\":\n",
        "        score_D+= df[\"reading score\"][i]\n",
        "        col_D+=1\n",
        "    else:\n",
        "        score_E+= df[\"reading score\"][i]\n",
        "        col_E+=1\n",
        "print(score_A/col_A)\n",
        "print(score_B/col_B)\n",
        "print(score_C/col_C)\n",
        "print(score_D/col_D)\n",
        "print(score_E/col_E)\n",
        "\n",
        "end = time.time() - start\n",
        "\n",
        "print(end)"
      ]
    },
    {
      "cell_type": "markdown",
      "metadata": {
        "id": "qW8BrkOwjV--"
      },
      "source": [
        "**Задание 13. Выведите на экран средние баллы студентов по каждому предмету в зависимости от пола и уровня образования. То есть должно получиться количество групп, равных 2 * (число уровней образования), и для каждой такой группы выыведите средний балл по каждому из предметов.**\n",
        "\n",
        "Это можно сделать с помощью сводных таблиц (pivot_table):\n",
        "\n",
        "https://www.kaggle.com/kamilpolak/tutorial-how-to-use-pivot-table-in-pandas"
      ]
    },
    {
      "cell_type": "code",
      "execution_count": null,
      "metadata": {
        "id": "KW0OExkjjV--",
        "outputId": "7769795f-a51d-4f99-991c-d811582221de"
      },
      "outputs": [
        {
          "data": {
            "text/html": [
              "<div>\n",
              "<style scoped>\n",
              "    .dataframe tbody tr th:only-of-type {\n",
              "        vertical-align: middle;\n",
              "    }\n",
              "\n",
              "    .dataframe tbody tr th {\n",
              "        vertical-align: top;\n",
              "    }\n",
              "\n",
              "    .dataframe thead th {\n",
              "        text-align: right;\n",
              "    }\n",
              "</style>\n",
              "<table border=\"1\" class=\"dataframe\">\n",
              "  <thead>\n",
              "    <tr style=\"text-align: right;\">\n",
              "      <th></th>\n",
              "      <th></th>\n",
              "      <th>math score</th>\n",
              "      <th>reading score</th>\n",
              "      <th>writing score</th>\n",
              "    </tr>\n",
              "    <tr>\n",
              "      <th>gender</th>\n",
              "      <th>education</th>\n",
              "      <th></th>\n",
              "      <th></th>\n",
              "      <th></th>\n",
              "    </tr>\n",
              "  </thead>\n",
              "  <tbody>\n",
              "    <tr>\n",
              "      <th rowspan=\"6\" valign=\"top\">female</th>\n",
              "      <th>associate's degree</th>\n",
              "      <td>65.250000</td>\n",
              "      <td>74.120690</td>\n",
              "      <td>74.000000</td>\n",
              "    </tr>\n",
              "    <tr>\n",
              "      <th>bachelor's degree</th>\n",
              "      <td>68.349206</td>\n",
              "      <td>77.285714</td>\n",
              "      <td>78.380952</td>\n",
              "    </tr>\n",
              "    <tr>\n",
              "      <th>high school</th>\n",
              "      <td>59.351064</td>\n",
              "      <td>68.202128</td>\n",
              "      <td>66.691489</td>\n",
              "    </tr>\n",
              "    <tr>\n",
              "      <th>master's degree</th>\n",
              "      <td>66.500000</td>\n",
              "      <td>76.805556</td>\n",
              "      <td>77.638889</td>\n",
              "    </tr>\n",
              "    <tr>\n",
              "      <th>some college</th>\n",
              "      <td>65.406780</td>\n",
              "      <td>73.550847</td>\n",
              "      <td>74.050847</td>\n",
              "    </tr>\n",
              "    <tr>\n",
              "      <th>some high school</th>\n",
              "      <td>59.296703</td>\n",
              "      <td>69.109890</td>\n",
              "      <td>68.285714</td>\n",
              "    </tr>\n",
              "    <tr>\n",
              "      <th rowspan=\"6\" valign=\"top\">male</th>\n",
              "      <th>associate's degree</th>\n",
              "      <td>70.764151</td>\n",
              "      <td>67.433962</td>\n",
              "      <td>65.405660</td>\n",
              "    </tr>\n",
              "    <tr>\n",
              "      <th>bachelor's degree</th>\n",
              "      <td>70.581818</td>\n",
              "      <td>68.090909</td>\n",
              "      <td>67.654545</td>\n",
              "    </tr>\n",
              "    <tr>\n",
              "      <th>high school</th>\n",
              "      <td>64.705882</td>\n",
              "      <td>61.480392</td>\n",
              "      <td>58.539216</td>\n",
              "    </tr>\n",
              "    <tr>\n",
              "      <th>master's degree</th>\n",
              "      <td>74.826087</td>\n",
              "      <td>73.130435</td>\n",
              "      <td>72.608696</td>\n",
              "    </tr>\n",
              "    <tr>\n",
              "      <th>some college</th>\n",
              "      <td>69.009259</td>\n",
              "      <td>64.990741</td>\n",
              "      <td>63.148148</td>\n",
              "    </tr>\n",
              "    <tr>\n",
              "      <th>some high school</th>\n",
              "      <td>67.840909</td>\n",
              "      <td>64.693182</td>\n",
              "      <td>61.375000</td>\n",
              "    </tr>\n",
              "  </tbody>\n",
              "</table>\n",
              "</div>"
            ],
            "text/plain": [
              "                           math score  reading score  writing score\n",
              "gender education                                                   \n",
              "female associate's degree   65.250000      74.120690      74.000000\n",
              "       bachelor's degree    68.349206      77.285714      78.380952\n",
              "       high school          59.351064      68.202128      66.691489\n",
              "       master's degree      66.500000      76.805556      77.638889\n",
              "       some college         65.406780      73.550847      74.050847\n",
              "       some high school     59.296703      69.109890      68.285714\n",
              "male   associate's degree   70.764151      67.433962      65.405660\n",
              "       bachelor's degree    70.581818      68.090909      67.654545\n",
              "       high school          64.705882      61.480392      58.539216\n",
              "       master's degree      74.826087      73.130435      72.608696\n",
              "       some college         69.009259      64.990741      63.148148\n",
              "       some high school     67.840909      64.693182      61.375000"
            ]
          },
          "execution_count": 121,
          "metadata": {},
          "output_type": "execute_result"
        }
      ],
      "source": [
        "grouped = pd.pivot_table(df, index=[\"gender\", \"education\"], aggfunc=np.mean)\n",
        "grouped"
      ]
    },
    {
      "cell_type": "markdown",
      "metadata": {
        "_uuid": "3e832cb427c4314582d1953a41b8c78db75e30e3",
        "id": "Vpw5VLuGjV-_"
      },
      "source": [
        "#### Задание 14. Сколько студентов успешно сдали экзамен по математике?\n",
        "\n",
        "Создайте новый столбец в таблице df под названием Math_PassStatus и запишите в него F, если студент не сдал экзамен по математике (балл за экзамен < passmark), и P иначе.\n",
        "\n",
        "Посчитайте количество студентов, сдавших и не сдавших экзамен по математике.\n",
        "\n",
        "Сделайте аналогичные шаги для экзаменов по чтению и письму."
      ]
    },
    {
      "cell_type": "code",
      "execution_count": null,
      "metadata": {
        "_uuid": "f43cddb72cc96b30df84bc0de83a4d9170904340",
        "id": "xFD49GxgjV_A",
        "outputId": "3b170b7b-f456-423c-efbb-e442eee996cd"
      },
      "outputs": [
        {
          "data": {
            "text/html": [
              "<div>\n",
              "<style scoped>\n",
              "    .dataframe tbody tr th:only-of-type {\n",
              "        vertical-align: middle;\n",
              "    }\n",
              "\n",
              "    .dataframe tbody tr th {\n",
              "        vertical-align: top;\n",
              "    }\n",
              "\n",
              "    .dataframe thead th {\n",
              "        text-align: right;\n",
              "    }\n",
              "</style>\n",
              "<table border=\"1\" class=\"dataframe\">\n",
              "  <thead>\n",
              "    <tr style=\"text-align: right;\">\n",
              "      <th></th>\n",
              "      <th>gender</th>\n",
              "      <th>race/ethnicity</th>\n",
              "      <th>education</th>\n",
              "      <th>lunch</th>\n",
              "      <th>test preparation</th>\n",
              "      <th>group</th>\n",
              "      <th>math score</th>\n",
              "      <th>reading score</th>\n",
              "      <th>writing score</th>\n",
              "      <th>Math_PassStatus</th>\n",
              "    </tr>\n",
              "  </thead>\n",
              "  <tbody>\n",
              "    <tr>\n",
              "      <th>0</th>\n",
              "      <td>female</td>\n",
              "      <td>group B</td>\n",
              "      <td>bachelor's degree</td>\n",
              "      <td>standard</td>\n",
              "      <td>none</td>\n",
              "      <td>group1</td>\n",
              "      <td>72</td>\n",
              "      <td>72</td>\n",
              "      <td>74</td>\n",
              "      <td>P</td>\n",
              "    </tr>\n",
              "    <tr>\n",
              "      <th>1</th>\n",
              "      <td>female</td>\n",
              "      <td>group C</td>\n",
              "      <td>some college</td>\n",
              "      <td>standard</td>\n",
              "      <td>completed</td>\n",
              "      <td>group1</td>\n",
              "      <td>69</td>\n",
              "      <td>90</td>\n",
              "      <td>88</td>\n",
              "      <td>P</td>\n",
              "    </tr>\n",
              "    <tr>\n",
              "      <th>2</th>\n",
              "      <td>female</td>\n",
              "      <td>group B</td>\n",
              "      <td>master's degree</td>\n",
              "      <td>standard</td>\n",
              "      <td>none</td>\n",
              "      <td>group1</td>\n",
              "      <td>90</td>\n",
              "      <td>95</td>\n",
              "      <td>93</td>\n",
              "      <td>P</td>\n",
              "    </tr>\n",
              "    <tr>\n",
              "      <th>3</th>\n",
              "      <td>male</td>\n",
              "      <td>group A</td>\n",
              "      <td>associate's degree</td>\n",
              "      <td>free/reduced</td>\n",
              "      <td>none</td>\n",
              "      <td>group1</td>\n",
              "      <td>47</td>\n",
              "      <td>57</td>\n",
              "      <td>44</td>\n",
              "      <td>F</td>\n",
              "    </tr>\n",
              "    <tr>\n",
              "      <th>4</th>\n",
              "      <td>male</td>\n",
              "      <td>group C</td>\n",
              "      <td>some college</td>\n",
              "      <td>standard</td>\n",
              "      <td>none</td>\n",
              "      <td>group1</td>\n",
              "      <td>76</td>\n",
              "      <td>78</td>\n",
              "      <td>75</td>\n",
              "      <td>P</td>\n",
              "    </tr>\n",
              "  </tbody>\n",
              "</table>\n",
              "</div>"
            ],
            "text/plain": [
              "   gender race/ethnicity           education         lunch test preparation  \\\n",
              "0  female        group B   bachelor's degree      standard             none   \n",
              "1  female        group C        some college      standard        completed   \n",
              "2  female        group B     master's degree      standard             none   \n",
              "3    male        group A  associate's degree  free/reduced             none   \n",
              "4    male        group C        some college      standard             none   \n",
              "\n",
              "    group  math score  reading score  writing score Math_PassStatus  \n",
              "0  group1          72             72             74               P  \n",
              "1  group1          69             90             88               P  \n",
              "2  group1          90             95             93               P  \n",
              "3  group1          47             57             44               F  \n",
              "4  group1          76             78             75               P  "
            ]
          },
          "execution_count": 124,
          "metadata": {},
          "output_type": "execute_result"
        }
      ],
      "source": [
        "def fun(score):\n",
        "    res = \"F\" if score < 50 else \"P\"\n",
        "    return res\n",
        "\n",
        "\n",
        "df[\"Math_PassStatus\"] = df[\"math score\"].apply(fun)\n",
        "df.head()"
      ]
    },
    {
      "cell_type": "markdown",
      "metadata": {
        "_uuid": "b753c90914ee65501e2ed263ea614d88a381c472",
        "id": "699f4D3djV_A"
      },
      "source": [
        "#### Задание 15. Сколько студентов успешно сдали все экзамены?\n",
        "\n",
        "Создайте столбец OverAll_PassStatus и запишите в него для каждого студента 'F', если студент не сдал хотя бы один из трех экзаменов, а иначе 'P'.\n",
        "\n",
        "Посчитайте количество студентов, которые сдали все экзамены."
      ]
    },
    {
      "cell_type": "code",
      "execution_count": null,
      "metadata": {
        "id": "iFoKIyJfjV_B"
      },
      "outputs": [],
      "source": [
        "def f(row):\n",
        "    if row[\"math score\"]<50 or row[\"reading score\"]<50 or row[\"writing score\"]<50:\n",
        "        val = \"F\"\n",
        "    else:\n",
        "        val = \"P\"\n",
        "    return val\n",
        "\n",
        "df['OverAll_PassStatus'] = df.apply(f, axis=1)"
      ]
    },
    {
      "cell_type": "code",
      "execution_count": null,
      "metadata": {
        "id": "hC7fMknmjV_B",
        "outputId": "a12f4979-1f77-415d-a83b-78eb48c6dbf3"
      },
      "outputs": [
        {
          "data": {
            "text/html": [
              "<div>\n",
              "<style scoped>\n",
              "    .dataframe tbody tr th:only-of-type {\n",
              "        vertical-align: middle;\n",
              "    }\n",
              "\n",
              "    .dataframe tbody tr th {\n",
              "        vertical-align: top;\n",
              "    }\n",
              "\n",
              "    .dataframe thead th {\n",
              "        text-align: right;\n",
              "    }\n",
              "</style>\n",
              "<table border=\"1\" class=\"dataframe\">\n",
              "  <thead>\n",
              "    <tr style=\"text-align: right;\">\n",
              "      <th></th>\n",
              "      <th>gender</th>\n",
              "      <th>race/ethnicity</th>\n",
              "      <th>education</th>\n",
              "      <th>lunch</th>\n",
              "      <th>test preparation</th>\n",
              "      <th>group</th>\n",
              "      <th>math score</th>\n",
              "      <th>reading score</th>\n",
              "      <th>writing score</th>\n",
              "      <th>Math_PassStatus</th>\n",
              "      <th>OverAll_PassStatus</th>\n",
              "    </tr>\n",
              "  </thead>\n",
              "  <tbody>\n",
              "    <tr>\n",
              "      <th>0</th>\n",
              "      <td>female</td>\n",
              "      <td>group B</td>\n",
              "      <td>bachelor's degree</td>\n",
              "      <td>standard</td>\n",
              "      <td>none</td>\n",
              "      <td>group1</td>\n",
              "      <td>72</td>\n",
              "      <td>72</td>\n",
              "      <td>74</td>\n",
              "      <td>P</td>\n",
              "      <td>P</td>\n",
              "    </tr>\n",
              "    <tr>\n",
              "      <th>1</th>\n",
              "      <td>female</td>\n",
              "      <td>group C</td>\n",
              "      <td>some college</td>\n",
              "      <td>standard</td>\n",
              "      <td>completed</td>\n",
              "      <td>group1</td>\n",
              "      <td>69</td>\n",
              "      <td>90</td>\n",
              "      <td>88</td>\n",
              "      <td>P</td>\n",
              "      <td>P</td>\n",
              "    </tr>\n",
              "    <tr>\n",
              "      <th>2</th>\n",
              "      <td>female</td>\n",
              "      <td>group B</td>\n",
              "      <td>master's degree</td>\n",
              "      <td>standard</td>\n",
              "      <td>none</td>\n",
              "      <td>group1</td>\n",
              "      <td>90</td>\n",
              "      <td>95</td>\n",
              "      <td>93</td>\n",
              "      <td>P</td>\n",
              "      <td>P</td>\n",
              "    </tr>\n",
              "    <tr>\n",
              "      <th>3</th>\n",
              "      <td>male</td>\n",
              "      <td>group A</td>\n",
              "      <td>associate's degree</td>\n",
              "      <td>free/reduced</td>\n",
              "      <td>none</td>\n",
              "      <td>group1</td>\n",
              "      <td>47</td>\n",
              "      <td>57</td>\n",
              "      <td>44</td>\n",
              "      <td>F</td>\n",
              "      <td>F</td>\n",
              "    </tr>\n",
              "    <tr>\n",
              "      <th>4</th>\n",
              "      <td>male</td>\n",
              "      <td>group C</td>\n",
              "      <td>some college</td>\n",
              "      <td>standard</td>\n",
              "      <td>none</td>\n",
              "      <td>group1</td>\n",
              "      <td>76</td>\n",
              "      <td>78</td>\n",
              "      <td>75</td>\n",
              "      <td>P</td>\n",
              "      <td>P</td>\n",
              "    </tr>\n",
              "    <tr>\n",
              "      <th>...</th>\n",
              "      <td>...</td>\n",
              "      <td>...</td>\n",
              "      <td>...</td>\n",
              "      <td>...</td>\n",
              "      <td>...</td>\n",
              "      <td>...</td>\n",
              "      <td>...</td>\n",
              "      <td>...</td>\n",
              "      <td>...</td>\n",
              "      <td>...</td>\n",
              "      <td>...</td>\n",
              "    </tr>\n",
              "    <tr>\n",
              "      <th>995</th>\n",
              "      <td>female</td>\n",
              "      <td>group E</td>\n",
              "      <td>master's degree</td>\n",
              "      <td>standard</td>\n",
              "      <td>completed</td>\n",
              "      <td>group10</td>\n",
              "      <td>88</td>\n",
              "      <td>99</td>\n",
              "      <td>95</td>\n",
              "      <td>P</td>\n",
              "      <td>P</td>\n",
              "    </tr>\n",
              "    <tr>\n",
              "      <th>996</th>\n",
              "      <td>male</td>\n",
              "      <td>group C</td>\n",
              "      <td>high school</td>\n",
              "      <td>free/reduced</td>\n",
              "      <td>none</td>\n",
              "      <td>group10</td>\n",
              "      <td>62</td>\n",
              "      <td>55</td>\n",
              "      <td>55</td>\n",
              "      <td>P</td>\n",
              "      <td>P</td>\n",
              "    </tr>\n",
              "    <tr>\n",
              "      <th>997</th>\n",
              "      <td>female</td>\n",
              "      <td>group C</td>\n",
              "      <td>high school</td>\n",
              "      <td>free/reduced</td>\n",
              "      <td>completed</td>\n",
              "      <td>group10</td>\n",
              "      <td>59</td>\n",
              "      <td>71</td>\n",
              "      <td>65</td>\n",
              "      <td>P</td>\n",
              "      <td>P</td>\n",
              "    </tr>\n",
              "    <tr>\n",
              "      <th>998</th>\n",
              "      <td>female</td>\n",
              "      <td>group D</td>\n",
              "      <td>some college</td>\n",
              "      <td>standard</td>\n",
              "      <td>completed</td>\n",
              "      <td>group10</td>\n",
              "      <td>68</td>\n",
              "      <td>78</td>\n",
              "      <td>77</td>\n",
              "      <td>P</td>\n",
              "      <td>P</td>\n",
              "    </tr>\n",
              "    <tr>\n",
              "      <th>999</th>\n",
              "      <td>female</td>\n",
              "      <td>group D</td>\n",
              "      <td>some college</td>\n",
              "      <td>free/reduced</td>\n",
              "      <td>none</td>\n",
              "      <td>group10</td>\n",
              "      <td>77</td>\n",
              "      <td>86</td>\n",
              "      <td>86</td>\n",
              "      <td>P</td>\n",
              "      <td>P</td>\n",
              "    </tr>\n",
              "  </tbody>\n",
              "</table>\n",
              "<p>1000 rows × 11 columns</p>\n",
              "</div>"
            ],
            "text/plain": [
              "     gender race/ethnicity           education         lunch test preparation  \\\n",
              "0    female        group B   bachelor's degree      standard             none   \n",
              "1    female        group C        some college      standard        completed   \n",
              "2    female        group B     master's degree      standard             none   \n",
              "3      male        group A  associate's degree  free/reduced             none   \n",
              "4      male        group C        some college      standard             none   \n",
              "..      ...            ...                 ...           ...              ...   \n",
              "995  female        group E     master's degree      standard        completed   \n",
              "996    male        group C         high school  free/reduced             none   \n",
              "997  female        group C         high school  free/reduced        completed   \n",
              "998  female        group D        some college      standard        completed   \n",
              "999  female        group D        some college  free/reduced             none   \n",
              "\n",
              "       group  math score  reading score  writing score Math_PassStatus  \\\n",
              "0     group1          72             72             74               P   \n",
              "1     group1          69             90             88               P   \n",
              "2     group1          90             95             93               P   \n",
              "3     group1          47             57             44               F   \n",
              "4     group1          76             78             75               P   \n",
              "..       ...         ...            ...            ...             ...   \n",
              "995  group10          88             99             95               P   \n",
              "996  group10          62             55             55               P   \n",
              "997  group10          59             71             65               P   \n",
              "998  group10          68             78             77               P   \n",
              "999  group10          77             86             86               P   \n",
              "\n",
              "    OverAll_PassStatus  \n",
              "0                    P  \n",
              "1                    P  \n",
              "2                    P  \n",
              "3                    F  \n",
              "4                    P  \n",
              "..                 ...  \n",
              "995                  P  \n",
              "996                  P  \n",
              "997                  P  \n",
              "998                  P  \n",
              "999                  P  \n",
              "\n",
              "[1000 rows x 11 columns]"
            ]
          },
          "execution_count": 190,
          "metadata": {},
          "output_type": "execute_result"
        }
      ],
      "source": [
        "df"
      ]
    },
    {
      "cell_type": "markdown",
      "metadata": {
        "_uuid": "3af9c6cb4cbfff66d4ae09509f10b8b6ce33075d",
        "id": "Kwv1DzP5jV_B"
      },
      "source": [
        "#### Задание 16. Переведем баллы в оценки\n",
        "\n",
        "### Система перевода баллов в оценки\n",
        "####    больше 90 = A\n",
        "####      80-90 = B\n",
        "####      70-80 = C\n",
        "####      60-70 = D\n",
        "####      50-60 = E\n",
        "####    меньше 50 = F (Fail)\n",
        "\n",
        "Создайте вспомогательную функцию, которая будет по среднему баллу за три экзамена выставлять оценку студенту по данным выше критериям.\n",
        "\n",
        "Создайте столбец Grade и запишите в него оценку каждого студента.\n",
        "\n",
        "Выведите количество студентов, получивших каждую из оценок.\n",
        "\n",
        "**В случае, если средний балл попадает на границу между оценками (т.е. равен ровно 60, 70 или 80 баллов), вы можете интерпретировать условие на своё усмотрение (т.е. можете поставить за 60 баллов оценку D, а можете - E).**"
      ]
    },
    {
      "cell_type": "code",
      "execution_count": null,
      "metadata": {
        "_uuid": "04707c5be4237020b906d2ac705a0db3d620506f",
        "id": "itRE0PGkjV_C"
      },
      "outputs": [],
      "source": [
        "def GetGrade(ds):\n",
        "    average_mark = (ds[\"math score\"]+ds[\"reading score\"]+ds[\"writing score\"])/3\n",
        "    if average_mark > 90:\n",
        "        grade = \"A\"\n",
        "    elif 80 < average_mark <=90:\n",
        "        grade = \"B\"\n",
        "    elif 70 < average_mark <=80:\n",
        "        grade = \"C\"\n",
        "    elif 60 < average_mark <=70:\n",
        "        grade = \"D\"\n",
        "    elif 50 < average_mark <=60:\n",
        "        grade = \"C\"\n",
        "    else:\n",
        "        grade = \"F (Fail)\"\n",
        "    return grade\n",
        "df[\"Grade\"]=df.apply(GetGrade, axis=1)"
      ]
    },
    {
      "cell_type": "code",
      "execution_count": null,
      "metadata": {
        "id": "g8I_UegFjV_C",
        "outputId": "bbddcdf6-3613-4008-ed4d-5dad307a669d"
      },
      "outputs": [
        {
          "data": {
            "text/html": [
              "<div>\n",
              "<style scoped>\n",
              "    .dataframe tbody tr th:only-of-type {\n",
              "        vertical-align: middle;\n",
              "    }\n",
              "\n",
              "    .dataframe tbody tr th {\n",
              "        vertical-align: top;\n",
              "    }\n",
              "\n",
              "    .dataframe thead th {\n",
              "        text-align: right;\n",
              "    }\n",
              "</style>\n",
              "<table border=\"1\" class=\"dataframe\">\n",
              "  <thead>\n",
              "    <tr style=\"text-align: right;\">\n",
              "      <th></th>\n",
              "      <th>gender</th>\n",
              "      <th>race/ethnicity</th>\n",
              "      <th>education</th>\n",
              "      <th>lunch</th>\n",
              "      <th>test preparation</th>\n",
              "      <th>group</th>\n",
              "      <th>math score</th>\n",
              "      <th>reading score</th>\n",
              "      <th>writing score</th>\n",
              "      <th>Math_PassStatus</th>\n",
              "      <th>OverAll_PassStatus</th>\n",
              "      <th>Grade</th>\n",
              "    </tr>\n",
              "  </thead>\n",
              "  <tbody>\n",
              "    <tr>\n",
              "      <th>0</th>\n",
              "      <td>female</td>\n",
              "      <td>group B</td>\n",
              "      <td>bachelor's degree</td>\n",
              "      <td>standard</td>\n",
              "      <td>none</td>\n",
              "      <td>group1</td>\n",
              "      <td>72</td>\n",
              "      <td>72</td>\n",
              "      <td>74</td>\n",
              "      <td>P</td>\n",
              "      <td>P</td>\n",
              "      <td>C</td>\n",
              "    </tr>\n",
              "    <tr>\n",
              "      <th>1</th>\n",
              "      <td>female</td>\n",
              "      <td>group C</td>\n",
              "      <td>some college</td>\n",
              "      <td>standard</td>\n",
              "      <td>completed</td>\n",
              "      <td>group1</td>\n",
              "      <td>69</td>\n",
              "      <td>90</td>\n",
              "      <td>88</td>\n",
              "      <td>P</td>\n",
              "      <td>P</td>\n",
              "      <td>B</td>\n",
              "    </tr>\n",
              "    <tr>\n",
              "      <th>2</th>\n",
              "      <td>female</td>\n",
              "      <td>group B</td>\n",
              "      <td>master's degree</td>\n",
              "      <td>standard</td>\n",
              "      <td>none</td>\n",
              "      <td>group1</td>\n",
              "      <td>90</td>\n",
              "      <td>95</td>\n",
              "      <td>93</td>\n",
              "      <td>P</td>\n",
              "      <td>P</td>\n",
              "      <td>A</td>\n",
              "    </tr>\n",
              "    <tr>\n",
              "      <th>3</th>\n",
              "      <td>male</td>\n",
              "      <td>group A</td>\n",
              "      <td>associate's degree</td>\n",
              "      <td>free/reduced</td>\n",
              "      <td>none</td>\n",
              "      <td>group1</td>\n",
              "      <td>47</td>\n",
              "      <td>57</td>\n",
              "      <td>44</td>\n",
              "      <td>F</td>\n",
              "      <td>F</td>\n",
              "      <td>F (Fail)</td>\n",
              "    </tr>\n",
              "    <tr>\n",
              "      <th>4</th>\n",
              "      <td>male</td>\n",
              "      <td>group C</td>\n",
              "      <td>some college</td>\n",
              "      <td>standard</td>\n",
              "      <td>none</td>\n",
              "      <td>group1</td>\n",
              "      <td>76</td>\n",
              "      <td>78</td>\n",
              "      <td>75</td>\n",
              "      <td>P</td>\n",
              "      <td>P</td>\n",
              "      <td>C</td>\n",
              "    </tr>\n",
              "    <tr>\n",
              "      <th>...</th>\n",
              "      <td>...</td>\n",
              "      <td>...</td>\n",
              "      <td>...</td>\n",
              "      <td>...</td>\n",
              "      <td>...</td>\n",
              "      <td>...</td>\n",
              "      <td>...</td>\n",
              "      <td>...</td>\n",
              "      <td>...</td>\n",
              "      <td>...</td>\n",
              "      <td>...</td>\n",
              "      <td>...</td>\n",
              "    </tr>\n",
              "    <tr>\n",
              "      <th>995</th>\n",
              "      <td>female</td>\n",
              "      <td>group E</td>\n",
              "      <td>master's degree</td>\n",
              "      <td>standard</td>\n",
              "      <td>completed</td>\n",
              "      <td>group10</td>\n",
              "      <td>88</td>\n",
              "      <td>99</td>\n",
              "      <td>95</td>\n",
              "      <td>P</td>\n",
              "      <td>P</td>\n",
              "      <td>A</td>\n",
              "    </tr>\n",
              "    <tr>\n",
              "      <th>996</th>\n",
              "      <td>male</td>\n",
              "      <td>group C</td>\n",
              "      <td>high school</td>\n",
              "      <td>free/reduced</td>\n",
              "      <td>none</td>\n",
              "      <td>group10</td>\n",
              "      <td>62</td>\n",
              "      <td>55</td>\n",
              "      <td>55</td>\n",
              "      <td>P</td>\n",
              "      <td>P</td>\n",
              "      <td>C</td>\n",
              "    </tr>\n",
              "    <tr>\n",
              "      <th>997</th>\n",
              "      <td>female</td>\n",
              "      <td>group C</td>\n",
              "      <td>high school</td>\n",
              "      <td>free/reduced</td>\n",
              "      <td>completed</td>\n",
              "      <td>group10</td>\n",
              "      <td>59</td>\n",
              "      <td>71</td>\n",
              "      <td>65</td>\n",
              "      <td>P</td>\n",
              "      <td>P</td>\n",
              "      <td>D</td>\n",
              "    </tr>\n",
              "    <tr>\n",
              "      <th>998</th>\n",
              "      <td>female</td>\n",
              "      <td>group D</td>\n",
              "      <td>some college</td>\n",
              "      <td>standard</td>\n",
              "      <td>completed</td>\n",
              "      <td>group10</td>\n",
              "      <td>68</td>\n",
              "      <td>78</td>\n",
              "      <td>77</td>\n",
              "      <td>P</td>\n",
              "      <td>P</td>\n",
              "      <td>C</td>\n",
              "    </tr>\n",
              "    <tr>\n",
              "      <th>999</th>\n",
              "      <td>female</td>\n",
              "      <td>group D</td>\n",
              "      <td>some college</td>\n",
              "      <td>free/reduced</td>\n",
              "      <td>none</td>\n",
              "      <td>group10</td>\n",
              "      <td>77</td>\n",
              "      <td>86</td>\n",
              "      <td>86</td>\n",
              "      <td>P</td>\n",
              "      <td>P</td>\n",
              "      <td>B</td>\n",
              "    </tr>\n",
              "  </tbody>\n",
              "</table>\n",
              "<p>1000 rows × 12 columns</p>\n",
              "</div>"
            ],
            "text/plain": [
              "     gender race/ethnicity           education         lunch test preparation  \\\n",
              "0    female        group B   bachelor's degree      standard             none   \n",
              "1    female        group C        some college      standard        completed   \n",
              "2    female        group B     master's degree      standard             none   \n",
              "3      male        group A  associate's degree  free/reduced             none   \n",
              "4      male        group C        some college      standard             none   \n",
              "..      ...            ...                 ...           ...              ...   \n",
              "995  female        group E     master's degree      standard        completed   \n",
              "996    male        group C         high school  free/reduced             none   \n",
              "997  female        group C         high school  free/reduced        completed   \n",
              "998  female        group D        some college      standard        completed   \n",
              "999  female        group D        some college  free/reduced             none   \n",
              "\n",
              "       group  math score  reading score  writing score Math_PassStatus  \\\n",
              "0     group1          72             72             74               P   \n",
              "1     group1          69             90             88               P   \n",
              "2     group1          90             95             93               P   \n",
              "3     group1          47             57             44               F   \n",
              "4     group1          76             78             75               P   \n",
              "..       ...         ...            ...            ...             ...   \n",
              "995  group10          88             99             95               P   \n",
              "996  group10          62             55             55               P   \n",
              "997  group10          59             71             65               P   \n",
              "998  group10          68             78             77               P   \n",
              "999  group10          77             86             86               P   \n",
              "\n",
              "    OverAll_PassStatus     Grade  \n",
              "0                    P         C  \n",
              "1                    P         B  \n",
              "2                    P         A  \n",
              "3                    F  F (Fail)  \n",
              "4                    P         C  \n",
              "..                 ...       ...  \n",
              "995                  P         A  \n",
              "996                  P         C  \n",
              "997                  P         D  \n",
              "998                  P         C  \n",
              "999                  P         B  \n",
              "\n",
              "[1000 rows x 12 columns]"
            ]
          },
          "execution_count": 201,
          "metadata": {},
          "output_type": "execute_result"
        }
      ],
      "source": [
        "df"
      ]
    },
    {
      "cell_type": "code",
      "execution_count": null,
      "metadata": {
        "id": "aBsQMjumjV_C"
      },
      "outputs": [],
      "source": []
    }
  ],
  "metadata": {
    "kernelspec": {
      "display_name": "Python 3",
      "language": "python",
      "name": "python3"
    },
    "language_info": {
      "codemirror_mode": {
        "name": "ipython",
        "version": 3
      },
      "file_extension": ".py",
      "mimetype": "text/x-python",
      "name": "python",
      "nbconvert_exporter": "python",
      "pygments_lexer": "ipython3",
      "version": "3.8.5"
    },
    "colab": {
      "provenance": []
    }
  },
  "nbformat": 4,
  "nbformat_minor": 0
}